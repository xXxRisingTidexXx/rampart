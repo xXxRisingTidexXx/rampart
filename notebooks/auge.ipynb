{
  "nbformat": 4,
  "nbformat_minor": 0,
  "metadata": {
    "kernelspec": {
      "display_name": "Python 3",
      "language": "python",
      "name": "python3"
    },
    "language_info": {
      "codemirror_mode": {
        "name": "ipython",
        "version": 3
      },
      "file_extension": ".py",
      "mimetype": "text/x-python",
      "name": "python",
      "nbconvert_exporter": "python",
      "pygments_lexer": "ipython3",
      "version": "3.8.6"
    },
    "colab": {
      "name": "auge.ipynb",
      "provenance": []
    },
    "accelerator": "GPU"
  },
  "cells": [
    {
      "cell_type": "markdown",
      "metadata": {
        "id": "l8svmUftZOtL"
      },
      "source": [
        "![Rampart Logo](https://github.com/xXxRisingTidexXx/rampart/blob/improved-accuracy/images/logo.png?raw=1)\n",
        "\n",
        "Auge is an image classification model. Its main target's to recognize common photos to determine a few flat publication's features. Each image belongs to a specific realty, having a bunch of photo & panorama recognized **twinkle** can better predict apartments' order.\n",
        "\n",
        "## I/O\n",
        "Required images lie at `/content/drive/MyDrive/Scientific/v3/Images/` .\n",
        "\n",
        "Currently the DB containes images of two types: simple photos & wide (360 deg) panoramas. Until a stable classification model panoramas should be omitted. Final classifier must be stored into `/content/drive/MyDrive/Scientific/v3/Models/auge.pth` .\n",
        "\n",
        "## Classes\n",
        "- `luxury` is a flat with rich furniture, huge rooms, chandeliers, fireplaces, etc.\n",
        "\n",
        "![Luxury 1](https://github.com/xXxRisingTidexXx/rampart/blob/improved-accuracy/images/luxury1.webp?raw=1)\n",
        "![Luxury 2](https://github.com/xXxRisingTidexXx/rampart/blob/improved-accuracy/images/luxury2.webp?raw=1)\n",
        "![Luxury 3](https://github.com/xXxRisingTidexXx/rampart/blob/improved-accuracy/images/luxury3.webp?raw=1)\n",
        "\n",
        "- `comfort` is the most suitable for an ordinary citizen apartments. Clean, neat, sometimes minimalistic, average area, qualitive furniture, etc.\n",
        "\n",
        "![Comfort 1](https://github.com/xXxRisingTidexXx/rampart/blob/improved-accuracy/images/comfort1.webp?raw=1)\n",
        "![Comfort 2](https://github.com/xXxRisingTidexXx/rampart/blob/improved-accuracy/images/comfort2.webp?raw=1)\n",
        "![Comfort 3](https://github.com/xXxRisingTidexXx/rampart/blob/improved-accuracy/images/comfort3.webp?raw=1)\n",
        "\n",
        "- `construction` is a flat without a finished design. No doors, floor, supplies, wallpapers, ceiling, furniture, etc. Typically, new buildings contain these apartments.\n",
        "\n",
        "![Construction 1](https://github.com/xXxRisingTidexXx/rampart/blob/improved-accuracy/images/construction1.webp?raw=1)\n",
        "![Construction 2](https://github.com/xXxRisingTidexXx/rampart/blob/improved-accuracy/images/construction2.webp?raw=1)\n",
        "![Construction 3](https://github.com/xXxRisingTidexXx/rampart/blob/improved-accuracy/images/construction3.webp?raw=1)\n",
        "\n",
        "- `junk` is an old flat image. Probably, the whole apartments should belong to a dormitory, Khrushchevka or gostinka.\n",
        "\n",
        "![Junk 1](https://github.com/xXxRisingTidexXx/rampart/blob/improved-accuracy/images/junk1.webp?raw=1)\n",
        "![Junk 2](https://github.com/xXxRisingTidexXx/rampart/blob/improved-accuracy/images/junk2.webp?raw=1)\n",
        "![Junk 3](https://github.com/xXxRisingTidexXx/rampart/blob/improved-accuracy/images/junk3.webp?raw=1)\n",
        "\n",
        "- `excess` is the trash category. Actually, all exterior photos, outlines & posters lie here.\n",
        "\n",
        "![Excess 1](https://github.com/xXxRisingTidexXx/rampart/blob/improved-accuracy/images/excess1.webp?raw=1)\n",
        "![Excess 2](https://github.com/xXxRisingTidexXx/rampart/blob/improved-accuracy/images/excess2.webp?raw=1)\n",
        "![Excess 3](https://github.com/xXxRisingTidexXx/rampart/blob/improved-accuracy/images/excess3.webp?raw=1)"
      ]
    },
    {
      "cell_type": "code",
      "metadata": {
        "id": "3dV3cYDlZOtL"
      },
      "source": [
        "%matplotlib inline"
      ],
      "execution_count": null,
      "outputs": []
    },
    {
      "cell_type": "code",
      "metadata": {
        "id": "lPF82oNZZOtL"
      },
      "source": [
        "from plotly.graph_objs import Pie, Figure, Scatter\n",
        "from plotly.figure_factory import create_annotated_heatmap\n",
        "from plotly.express import imshow\n",
        "from re import match\n",
        "from numpy import arange, trace, sum\n",
        "from glob import glob\n",
        "from pandas import DataFrame, concat\n",
        "from sklearn.model_selection import train_test_split\n",
        "from sklearn.metrics import confusion_matrix\n",
        "from torch.utils.data import Dataset, DataLoader\n",
        "from torchvision.transforms import Compose, ToTensor\n",
        "from torch.nn import Module, Conv2d, Linear, ReLU, CrossEntropyLoss, Sequential, MaxPool2d\n",
        "from torch.optim import Adam\n",
        "from torch import no_grad, save, max, load, zeros, cat, long, device\n",
        "from torch.cuda import is_available\n",
        "from time import time\n",
        "from google.colab.drive import mount, flush_and_unmount\n",
        "from uuid import uuid4\n",
        "from cv2 import (\n",
        "    imread, IMREAD_COLOR, cvtColor, COLOR_BGR2RGB, IMREAD_GRAYSCALE, inpaint, INPAINT_TELEA, resize, INTER_AREA\n",
        ")"
      ],
      "execution_count": null,
      "outputs": []
    },
    {
      "cell_type": "code",
      "metadata": {
        "id": "6HAYhRC8ZOtM"
      },
      "source": [
        "mount('/content/drive')"
      ],
      "execution_count": null,
      "outputs": []
    },
    {
      "cell_type": "code",
      "metadata": {
        "id": "8y1Ga1pjZOtN"
      },
      "source": [
        "labels = ['luxury', 'comfort', 'junk', 'construction', 'excess']\n",
        "mappings = {l: i for i, l in enumerate(labels)}"
      ],
      "execution_count": null,
      "outputs": []
    },
    {
      "cell_type": "code",
      "metadata": {
        "id": "1PjyYwYQZOtN"
      },
      "source": [
        "def parse(path):\n",
        "    result = match(r'^.*/(\\w+)\\.(\\w+)\\.webp$', path)\n",
        "    return ('unknown', 'unknown') if not result else result.groups()    "
      ],
      "execution_count": null,
      "outputs": []
    },
    {
      "cell_type": "code",
      "metadata": {
        "id": "q1uECwIQZOtN"
      },
      "source": [
        "images = DataFrame({'path': glob('/content/drive/MyDrive/Scientific/V3/Images/*.webp')})\n",
        "images['label'] = images['path'].apply(lambda p: mappings[parse(p)[1]])"
      ],
      "execution_count": null,
      "outputs": []
    },
    {
      "cell_type": "code",
      "metadata": {
        "id": "lM4e4XoVZOtO"
      },
      "source": [
        "counts = images['label'].value_counts().sort_index()\n",
        "figure = Figure()\n",
        "figure.add_trace(Pie(labels=[labels[i] for i in counts.index], values=counts.values))\n",
        "figure.update_layout(margin={'t': 30, 'r': 0, 'b': 0, 'l': 0})\n",
        "figure.show(renderer='colab')"
      ],
      "execution_count": null,
      "outputs": []
    },
    {
      "cell_type": "code",
      "metadata": {
        "id": "3IeVYFi8pQg6"
      },
      "source": [
        "class Read:\n",
        "    def __call__(self, path):\n",
        "        return imread(path, IMREAD_COLOR)"
      ],
      "execution_count": null,
      "outputs": []
    },
    {
      "cell_type": "code",
      "metadata": {
        "id": "4vPR0jWNp_R9"
      },
      "source": [
        "class Resize:\n",
        "    def __call__(self, source):\n",
        "        return resize(source, (620, 460), interpolation=INTER_AREA)"
      ],
      "execution_count": null,
      "outputs": []
    },
    {
      "cell_type": "code",
      "metadata": {
        "id": "_sIn--jRjO0b"
      },
      "source": [
        "class Inpaint:\n",
        "    def __init__(self):\n",
        "        self._mask = imread('/content/drive/MyDrive/Scientific/V3/Masks/domria.jpeg', IMREAD_GRAYSCALE)\n",
        "\n",
        "    def __call__(self, source):\n",
        "        return cvtColor(inpaint(source, self._mask, 3, INPAINT_TELEA), COLOR_BGR2RGB)"
      ],
      "execution_count": null,
      "outputs": []
    },
    {
      "cell_type": "code",
      "metadata": {
        "id": "-XccA9INZOtP"
      },
      "source": [
        "class AugeDataset(Dataset):\n",
        "    def __init__(self, data, inpainter):\n",
        "        self._data = data.values\n",
        "        self._transforms = Compose([Read(), Resize(), inpainter, ToTensor()])\n",
        "\n",
        "    def __len__(self):\n",
        "        return len(self._data)\n",
        "\n",
        "    def __getitem__(self, index):\n",
        "        path, label = self._data[index]\n",
        "        return self._transforms(path), label, path"
      ],
      "execution_count": null,
      "outputs": []
    },
    {
      "cell_type": "code",
      "metadata": {
        "id": "rYuzSQPtZOtP"
      },
      "source": [
        "training_images, testing_images = train_test_split(images, test_size=0.3)\n",
        "training_images, validation_images = train_test_split(training_images, test_size=0.3)\n",
        "watermarker = Inpaint()\n",
        "batch_size = 2\n",
        "training_loader = DataLoader(AugeDataset(training_images, watermarker), batch_size, True)\n",
        "validation_loader = DataLoader(AugeDataset(validation_images, watermarker), batch_size)\n",
        "testing_loader = DataLoader(AugeDataset(testing_images, watermarker), batch_size)"
      ],
      "execution_count": null,
      "outputs": []
    },
    {
      "cell_type": "code",
      "metadata": {
        "id": "J96sq0_wZOtP"
      },
      "source": [
        "class View(Module):\n",
        "    def __init__(self, *shape):\n",
        "        super().__init__()\n",
        "        self._shape = shape\n",
        "\n",
        "    def forward(self, x):\n",
        "        return x.view(*self._shape)"
      ],
      "execution_count": null,
      "outputs": []
    },
    {
      "cell_type": "code",
      "metadata": {
        "id": "6l9tsC30ZOtP"
      },
      "source": [
        "class Auge(Module):\n",
        "    def __init__(self):\n",
        "        super().__init__()\n",
        "        # self._sequential = Sequential(\n",
        "        #     Conv2d(3, 5, 7, 2),\n",
        "        #     ReLU(),\n",
        "        #     Conv2d(5, 7, 5),\n",
        "        #     ReLU(),\n",
        "        #     MaxPool2d(2),\n",
        "        #     Conv2d(7, 16, 3),\n",
        "        #     ReLU(),\n",
        "        #     Conv2d(16, 32, 3),\n",
        "        #     ReLU(),\n",
        "        #     MaxPool2d(2),\n",
        "        #     Conv2d(32, 64, 3),\n",
        "        #     ReLU(),\n",
        "        #     Conv2d(64, 128, 3),\n",
        "        #     ReLU(),\n",
        "        #     MaxPool2d(2),\n",
        "        #     View(-1, 104448),\n",
        "        #     Linear(104448, 5)\n",
        "        # )\n",
        "        self._sequential = Sequential(\n",
        "            Conv2d(3, 5, 7),\n",
        "            ReLU(),\n",
        "            MaxPool2d(2),\n",
        "            View(-1, 348445),\n",
        "            Linear(348445, 5)\n",
        "        )\n",
        "\n",
        "    def forward(self, x):\n",
        "        return self._sequential(x)"
      ],
      "execution_count": null,
      "outputs": []
    },
    {
      "cell_type": "code",
      "metadata": {
        "id": "SyuIm8bcYjix"
      },
      "source": [
        "def train(unit):\n",
        "    auge = Auge().to(unit)\n",
        "    criterion = CrossEntropyLoss()\n",
        "    optimizer = Adam(auge.parameters())\n",
        "    training_losses, validation_losses = [], []\n",
        "    epoch_number = 2\n",
        "    for epoch in range(1, epoch_number + 1):\n",
        "        start = time()\n",
        "        training_loss, validation_loss = 0.0, 0.0\n",
        "        auge.train()\n",
        "        for batch in training_loader:\n",
        "            samples, targets = batch[0].to(unit), batch[1].to(unit)\n",
        "            output = auge(samples)\n",
        "            # print('t', output, targets)\n",
        "            optimizer.zero_grad()\n",
        "            loss = criterion(output, targets)\n",
        "            loss.backward()\n",
        "            optimizer.step()\n",
        "            training_loss += loss.item() * samples.size(0)\n",
        "        auge.eval()\n",
        "        with no_grad():\n",
        "            for batch in validation_loader:\n",
        "                samples, targets = batch[0].to(unit), batch[1].to(unit)\n",
        "                output = auge(samples)\n",
        "                # print('v', output, targets)\n",
        "                validation_loss += criterion(output, targets).item() * samples.size(0)\n",
        "        end = time()\n",
        "        training_loss /= len(training_loader.sampler)\n",
        "        validation_loss /= len(validation_loader.sampler)\n",
        "        training_losses.append(training_loss)\n",
        "        validation_losses.append(validation_loss)\n",
        "        print(\n",
        "            f'Epoch: {epoch:2}  '\n",
        "            f'Training loss: {training_loss:8.6f}  '\n",
        "            f'Validation loss: {validation_loss:8.6f}  '\n",
        "            f'Duration: {end - start:.0f}s'\n",
        "        )\n",
        "    save(auge.state_dict(), f'/content/drive/MyDrive/Scientific/V3/Models/auge.{uuid4().hex}.pth')\n",
        "    save(auge.state_dict(), '/content/drive/MyDrive/Scientific/V3/Models/auge.latest.pth')\n",
        "    figure = Figure()\n",
        "    figure.add_trace(Scatter(x=arange(1, epoch_number + 1), y=training_losses, name='Training'))\n",
        "    figure.add_trace(Scatter(x=arange(1, epoch_number + 1), y=validation_losses, name='Validation'))\n",
        "    figure.update_layout(margin={'t': 30, 'r': 80, 'b': 0, 'l': 0})\n",
        "    figure.show()\n",
        "    return auge"
      ],
      "execution_count": null,
      "outputs": []
    },
    {
      "cell_type": "code",
      "metadata": {
        "id": "2sQ7bTE_ZOtP"
      },
      "source": [
        "def use(unit):\n",
        "    auge = Auge().to(unit)\n",
        "    auge.load_state_dict(load('/content/drive/MyDrive/Scientific/V3/Models/auge.latest.pth'))\n",
        "    return auge"
      ],
      "execution_count": null,
      "outputs": []
    },
    {
      "cell_type": "code",
      "metadata": {
        "id": "VbwrWZ7WZOtQ"
      },
      "source": [
        "def test(auge, unit):\n",
        "    auge.eval()\n",
        "    actual, expected = zeros(0, dtype=long).to(unit), zeros(0, dtype=long).to(unit)\n",
        "    with no_grad():\n",
        "        for batch in testing_loader:\n",
        "            output = auge(batch[0].to(unit))\n",
        "            # print('e', output, batch[1])\n",
        "            actual = cat([actual, max(output, 1)[1].view(-1)])\n",
        "            expected = cat([expected, batch[1].to(unit).view(-1)])\n",
        "    matrix = confusion_matrix(expected.cpu(), actual.cpu())\n",
        "    figure = create_annotated_heatmap(z=matrix, x=labels, y=labels, hoverinfo='skip')\n",
        "    figure.update_xaxes(title_text='Expected')\n",
        "    figure.update_yaxes(title_text='Actual', autorange='reversed')\n",
        "    figure.update_layout(\n",
        "        margin={'t': 100, 'r': 0, 'b': 0, 'l': 0},\n",
        "        title=f'Accuracy: {trace(matrix) / sum(matrix) * 100:.2f}%'\n",
        "    )\n",
        "    figure.show()"
      ],
      "execution_count": null,
      "outputs": []
    },
    {
      "cell_type": "code",
      "metadata": {
        "id": "TS7CfNd6aSqM"
      },
      "source": [
        "circuit = device('cuda:0' if is_available() else 'cpu')\n",
        "test(train(circuit), circuit)"
      ],
      "execution_count": null,
      "outputs": []
    }
  ]
}