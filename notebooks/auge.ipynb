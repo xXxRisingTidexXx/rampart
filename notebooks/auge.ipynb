{
  "nbformat": 4,
  "nbformat_minor": 0,
  "metadata": {
    "kernelspec": {
      "display_name": "Python 3",
      "language": "python",
      "name": "python3"
    },
    "language_info": {
      "codemirror_mode": {
        "name": "ipython",
        "version": 3
      },
      "file_extension": ".py",
      "mimetype": "text/x-python",
      "name": "python",
      "nbconvert_exporter": "python",
      "pygments_lexer": "ipython3",
      "version": "3.8.6"
    },
    "colab": {
      "name": "auge.ipynb",
      "provenance": []
    },
    "accelerator": "GPU"
  },
  "cells": [
    {
      "cell_type": "markdown",
      "metadata": {
        "id": "l8svmUftZOtL"
      },
      "source": [
        "![Rampart Logo](https://github.com/xXxRisingTidexXx/rampart/blob/improved-accuracy/images/logo.png?raw=1)\n",
        "\n",
        "Auge is an image classification model. Its main target's to recognize common photos to determine a few flat publication's features. Each image belongs to a specific realty, having a bunch of photo & panorama recognized **twinkle** can better predict apartments' order.\n",
        "\n",
        "## I/O\n",
        "Required images lie at `/content/drive/MyDrive/Scientific/v3/Images/` .\n",
        "\n",
        "Currently the DB containes images of two types: simple photos & wide (360 deg) panoramas. Until a stable classification model panoramas should be omitted. Final classifier must be stored into `/content/drive/MyDrive/Scientific/v3/Models/auge.pth` .\n",
        "\n",
        "## Classes\n",
        "- `luxury` is a flat with rich furniture, huge rooms, chandeliers, fireplaces, etc.\n",
        "\n",
        "![Luxury 1](https://github.com/xXxRisingTidexXx/rampart/blob/improved-accuracy/images/luxury1.webp?raw=1)\n",
        "![Luxury 2](https://github.com/xXxRisingTidexXx/rampart/blob/improved-accuracy/images/luxury2.webp?raw=1)\n",
        "![Luxury 3](https://github.com/xXxRisingTidexXx/rampart/blob/improved-accuracy/images/luxury3.webp?raw=1)\n",
        "\n",
        "- `comfort` is the most suitable for an ordinary citizen apartments. Clean, neat, sometimes minimalistic, average area, qualitive furniture, etc.\n",
        "\n",
        "![Comfort 1](https://github.com/xXxRisingTidexXx/rampart/blob/improved-accuracy/images/comfort1.webp?raw=1)\n",
        "![Comfort 2](https://github.com/xXxRisingTidexXx/rampart/blob/improved-accuracy/images/comfort2.webp?raw=1)\n",
        "![Comfort 3](https://github.com/xXxRisingTidexXx/rampart/blob/improved-accuracy/images/comfort3.webp?raw=1)\n",
        "\n",
        "- `construction` is a flat without a finished design. No doors, floor, supplies, wallpapers, ceiling, furniture, etc. Typically, new buildings contain these apartments.\n",
        "\n",
        "![Construction 1](https://github.com/xXxRisingTidexXx/rampart/blob/improved-accuracy/images/construction1.webp?raw=1)\n",
        "![Construction 2](https://github.com/xXxRisingTidexXx/rampart/blob/improved-accuracy/images/construction2.webp?raw=1)\n",
        "![Construction 3](https://github.com/xXxRisingTidexXx/rampart/blob/improved-accuracy/images/construction3.webp?raw=1)\n",
        "\n",
        "- `junk` is an old flat image. Probably, the whole apartments should belong to a dormitory, Khrushchevka or gostinka.\n",
        "\n",
        "![Junk 1](https://github.com/xXxRisingTidexXx/rampart/blob/improved-accuracy/images/junk1.webp?raw=1)\n",
        "![Junk 2](https://github.com/xXxRisingTidexXx/rampart/blob/improved-accuracy/images/junk2.webp?raw=1)\n",
        "![Junk 3](https://github.com/xXxRisingTidexXx/rampart/blob/improved-accuracy/images/junk3.webp?raw=1)\n",
        "\n",
        "- `excess` is the trash category. Actually, all exterior photos, outlines & posters lie here.\n",
        "\n",
        "![Excess 1](https://github.com/xXxRisingTidexXx/rampart/blob/improved-accuracy/images/excess1.webp?raw=1)\n",
        "![Excess 2](https://github.com/xXxRisingTidexXx/rampart/blob/improved-accuracy/images/excess2.webp?raw=1)\n",
        "![Excess 3](https://github.com/xXxRisingTidexXx/rampart/blob/improved-accuracy/images/excess3.webp?raw=1)"
      ]
    },
    {
      "cell_type": "code",
      "metadata": {
        "id": "3dV3cYDlZOtL"
      },
      "source": [
        "%matplotlib inline"
      ],
      "execution_count": null,
      "outputs": []
    },
    {
      "cell_type": "code",
      "metadata": {
        "id": "lPF82oNZZOtL"
      },
      "source": [
        "from plotly.graph_objs import Pie, Figure, Scatter\n",
        "from plotly.figure_factory import create_annotated_heatmap\n",
        "from plotly.express import imshow\n",
        "from plotly.subplots import make_subplots\n",
        "from re import match\n",
        "from numpy import arange, trace, sum\n",
        "from glob import glob\n",
        "from pandas import DataFrame, concat\n",
        "from sklearn.model_selection import train_test_split\n",
        "from sklearn.metrics import confusion_matrix\n",
        "from torch.utils.data import Dataset, DataLoader\n",
        "from torchvision.transforms import Compose, ToTensor, Normalize\n",
        "from torch.nn import Module, Conv2d, Linear, ReLU, CrossEntropyLoss, Sequential, MaxPool2d, Dropout\n",
        "from torch.optim import Adam\n",
        "from torch import no_grad, save, max, load, zeros, cat, long, device\n",
        "from torch.cuda import is_available\n",
        "from google.colab.drive import mount, flush_and_unmount\n",
        "from uuid import uuid4\n",
        "from cv2 import (\n",
        "    imread, IMREAD_COLOR, cvtColor, COLOR_BGR2RGB, IMREAD_GRAYSCALE, inpaint, INPAINT_TELEA, resize, INTER_AREA\n",
        ")"
      ],
      "execution_count": null,
      "outputs": []
    },
    {
      "cell_type": "code",
      "metadata": {
        "id": "6HAYhRC8ZOtM"
      },
      "source": [
        "mount('/content/drive')"
      ],
      "execution_count": null,
      "outputs": []
    },
    {
      "cell_type": "code",
      "metadata": {
        "id": "8y1Ga1pjZOtN"
      },
      "source": [
        "labels = ['luxury', 'comfort', 'junk', 'construction', 'excess']\n",
        "mappings = {l: i for i, l in enumerate(labels)}"
      ],
      "execution_count": null,
      "outputs": []
    },
    {
      "cell_type": "code",
      "metadata": {
        "id": "1PjyYwYQZOtN"
      },
      "source": [
        "def label(path):\n",
        "    result = match(r'^.*/\\w+\\.(\\w+)\\.webp$', path)\n",
        "    if not result:\n",
        "        raise RuntimeError(f'Got invalid path, {path}')\n",
        "    mark = result.groups()[0]\n",
        "    if mark not in mappings:\n",
        "        raise RuntimeError(f'Got invalid label, {path}')\n",
        "    return mappings[mark]"
      ],
      "execution_count": null,
      "outputs": []
    },
    {
      "cell_type": "code",
      "metadata": {
        "id": "q1uECwIQZOtN"
      },
      "source": [
        "images = DataFrame({'path': glob('/content/drive/MyDrive/Scientific/V3/Images/*.webp')})\n",
        "images['label'] = images['path'].apply(label)"
      ],
      "execution_count": null,
      "outputs": []
    },
    {
      "cell_type": "code",
      "metadata": {
        "id": "lM4e4XoVZOtO"
      },
      "source": [
        "counts = images['label'].value_counts().sort_index()\n",
        "figure = Figure()\n",
        "figure.add_trace(Pie(labels=[labels[i] for i in counts.index], values=counts.values))\n",
        "figure.update_layout(margin={'t': 30, 'r': 0, 'b': 0, 'l': 0})\n",
        "figure.show()"
      ],
      "execution_count": null,
      "outputs": []
    },
    {
      "cell_type": "code",
      "metadata": {
        "id": "3IeVYFi8pQg6"
      },
      "source": [
        "class Read:\n",
        "    def __call__(self, path):\n",
        "        return imread(path, IMREAD_COLOR)"
      ],
      "execution_count": null,
      "outputs": []
    },
    {
      "cell_type": "code",
      "metadata": {
        "id": "4vPR0jWNp_R9"
      },
      "source": [
        "class Resize:\n",
        "    def __call__(self, source):\n",
        "        return resize(source, (620, 460), interpolation=INTER_AREA)"
      ],
      "execution_count": null,
      "outputs": []
    },
    {
      "cell_type": "code",
      "metadata": {
        "id": "_sIn--jRjO0b"
      },
      "source": [
        "class Inpaint:\n",
        "    def __init__(self):\n",
        "        self._mask = imread('/content/drive/MyDrive/Scientific/V3/Masks/domria.jpeg', IMREAD_GRAYSCALE)\n",
        "\n",
        "    def __call__(self, source):\n",
        "        return cvtColor(inpaint(source, self._mask, 3, INPAINT_TELEA), COLOR_BGR2RGB)"
      ],
      "execution_count": null,
      "outputs": []
    },
    {
      "cell_type": "code",
      "metadata": {
        "id": "-XccA9INZOtP"
      },
      "source": [
        "class AugeDataset(Dataset):\n",
        "    def __init__(self, data, inpainter):\n",
        "        self._data = data.values\n",
        "        self._transforms = Compose(\n",
        "            [\n",
        "                Read(),\n",
        "                Resize(),\n",
        "                inpainter,\n",
        "                ToTensor(),\n",
        "                Normalize([0.485, 0.456, 0.406], [0.229, 0.224, 0.225])\n",
        "            ]\n",
        "        )\n",
        "\n",
        "    def __len__(self):\n",
        "        return len(self._data)\n",
        "\n",
        "    def __getitem__(self, index):\n",
        "        path, label = self._data[index]\n",
        "        return self._transforms(path), label, path"
      ],
      "execution_count": null,
      "outputs": []
    },
    {
      "cell_type": "code",
      "metadata": {
        "id": "rYuzSQPtZOtP"
      },
      "source": [
        "training_images, testing_images = train_test_split(images, test_size=0.2)\n",
        "training_images, validation_images = train_test_split(training_images, test_size=0.2)\n",
        "watermarker = Inpaint()\n",
        "batch_size = 4\n",
        "training_loader = DataLoader(AugeDataset(training_images, watermarker), batch_size, True)\n",
        "validation_loader = DataLoader(AugeDataset(validation_images, watermarker), batch_size)\n",
        "testing_loader = DataLoader(AugeDataset(testing_images, watermarker), batch_size)"
      ],
      "execution_count": null,
      "outputs": []
    },
    {
      "cell_type": "code",
      "metadata": {
        "id": "J96sq0_wZOtP"
      },
      "source": [
        "class View(Module):\n",
        "    def __init__(self, *shape):\n",
        "        super().__init__()\n",
        "        self._shape = shape\n",
        "\n",
        "    def forward(self, x):\n",
        "        return x.view(*self._shape)"
      ],
      "execution_count": null,
      "outputs": []
    },
    {
      "cell_type": "code",
      "metadata": {
        "id": "6l9tsC30ZOtP"
      },
      "source": [
        "class Auge(Module):\n",
        "    def __init__(self):\n",
        "        super().__init__()\n",
        "        self._sequential = Sequential(\n",
        "            Conv2d(3, 3, 5, padding=2),\n",
        "            ReLU(),\n",
        "            View(-1, 855600),\n",
        "            Linear(855600, 5)\n",
        "        )\n",
        "\n",
        "    def forward(self, x):\n",
        "        return self._sequential(x)"
      ],
      "execution_count": null,
      "outputs": []
    },
    {
      "cell_type": "code",
      "metadata": {
        "id": "RY1cOYmq5tDy"
      },
      "source": [
        "unit = device('cuda:0' if is_available() else 'cpu')"
      ],
      "execution_count": null,
      "outputs": []
    },
    {
      "cell_type": "code",
      "metadata": {
        "id": "SyuIm8bcYjix"
      },
      "source": [
        "def train():\n",
        "    auge = Auge().to(unit)\n",
        "    criterion = CrossEntropyLoss()\n",
        "    optimizer = Adam(auge.parameters())\n",
        "    epoch_number = 20\n",
        "    epochs = arange(epoch_number)\n",
        "    training_losses = [0.0] * epoch_number\n",
        "    validation_losses = [0.0] * epoch_number\n",
        "    for epoch in epochs:\n",
        "        auge.train()\n",
        "        for batch in training_loader:\n",
        "            samples, targets = batch[0].to(unit), batch[1].to(unit)\n",
        "            optimizer.zero_grad()\n",
        "            loss = criterion(auge(samples), targets)\n",
        "            loss.backward()\n",
        "            optimizer.step()\n",
        "            training_losses[epoch] += loss.item() * samples.size(0)\n",
        "        training_losses[epoch] /= len(training_loader.sampler)\n",
        "        auge.eval()\n",
        "        with no_grad():\n",
        "            for batch in validation_loader:\n",
        "                samples, targets = batch[0].to(unit), batch[1].to(unit)\n",
        "                validation_losses[epoch] += criterion(auge(samples), targets).item() * samples.size(0)\n",
        "        validation_losses[epoch] /= len(validation_loader.sampler)\n",
        "    save(auge.state_dict(), f'/content/drive/MyDrive/Scientific/V3/Models/auge.{uuid4().hex}.pth')\n",
        "    save(auge.state_dict(), '/content/drive/MyDrive/Scientific/V3/Models/auge.latest.pth')\n",
        "    figure = Figure()\n",
        "    figure.add_trace(Scatter(x=epochs, y=training_losses, name='Training'))\n",
        "    figure.add_trace(Scatter(x=epochs, y=validation_losses, name='Validation'))\n",
        "    figure.show()\n",
        "    return auge"
      ],
      "execution_count": null,
      "outputs": []
    },
    {
      "cell_type": "code",
      "metadata": {
        "id": "2sQ7bTE_ZOtP"
      },
      "source": [
        "def use():\n",
        "    auge = Auge().to(unit)\n",
        "    auge.load_state_dict(load('/content/drive/MyDrive/Scientific/V3/Models/auge.latest.pth'))\n",
        "    return auge"
      ],
      "execution_count": null,
      "outputs": []
    },
    {
      "cell_type": "code",
      "metadata": {
        "id": "VbwrWZ7WZOtQ"
      },
      "source": [
        "def test(auge):\n",
        "    auge.eval()\n",
        "    actual, expected = zeros(0, dtype=long).to(unit), zeros(0, dtype=long).to(unit)\n",
        "    with no_grad():\n",
        "        for batch in testing_loader:\n",
        "            actual = cat([actual, max(auge(batch[0].to(unit)), 1)[1].view(-1)])\n",
        "            expected = cat([expected, batch[1].to(unit).view(-1)])\n",
        "    matrix = confusion_matrix(expected.cpu(), actual.cpu())\n",
        "    figure = create_annotated_heatmap(z=matrix, x=labels, y=labels, hoverinfo='skip')\n",
        "    figure.update_xaxes(title_text='Expected')\n",
        "    figure.update_yaxes(title_text='Actual', autorange='reversed')\n",
        "    figure.update_layout(title=f'Accuracy: {trace(matrix) / sum(matrix) * 100:.2f}%')\n",
        "    figure.show()"
      ],
      "execution_count": null,
      "outputs": []
    },
    {
      "cell_type": "code",
      "metadata": {
        "id": "TS7CfNd6aSqM"
      },
      "source": [
        "test(train())"
      ],
      "execution_count": null,
      "outputs": []
    }
  ]
}