{
 "cells": [
  {
   "cell_type": "markdown",
   "metadata": {},
   "source": [
    "![Rampart Logo](../images/logo.png)\n",
    "\n",
    "Auge is an image classification model. Its main target's to recognize common photos to determine a few flat publication's features. Each image belongs to a specific realty, having a bunch of photo & panorama recognized **twinkle** can better predict apartments' order.\n",
    "\n",
    "## I/O\n",
    "Required data consists of two parts + remote image CDN:\n",
    "- Training references lie in `../data/auge/training.csv` ;\n",
    "- Testing links lie in `../data/auge/testing.csv` .\n",
    "\n",
    "Currently the DB containes images of two types: simple photos & wide (360 deg) panoramas. Until a stable classification model panoramas should be omitted. Final classifier must be stored into `../models/auge.pth` .\n",
    "\n",
    "## Classes\n",
    "- `unknown` is the default class of an image tuple. Unclassified photos & broken/abandoned links also obtain this label.\n",
    "- `luxury` is a flat with rich furniture, huge rooms, chandeliers, fireplaces, etc.\n",
    "![Luxury 1](../images/luxury1.webp)\n",
    "![Luxury 2](../images/luxury2.webp)\n",
    "![Luxury 3](../images/luxury3.webp)\n",
    "- `comfort` is the most suitable for an ordinary citizen apartments. Clean, neat, sometimes minimalistic, average area, qualitive furniture, etc.\n",
    "![Comfort 1](../images/comfort1.webp)\n",
    "![Comfort 2](../images/comfort2.webp)\n",
    "![Comfort 3](../images/comfort3.webp)\n",
    "- `construction` is a flat without a finished design. No doors, floor, supplies, wallpapers, ceiling, furniture, etc. Typically, new buildings contain these apartments.\n",
    "![Construction 1](../images/construction1.webp)\n",
    "![Construction 2](../images/construction2.webp)\n",
    "![Construction 3](../images/construction3.webp)\n",
    "- `junk` is an old flat image. Probably, the whole apartments should belong to a dormitory, Khrushchevka or gostinka.\n",
    "![Junk 1](../images/junk1.webp)\n",
    "![Junk 2](../images/junk2.webp)\n",
    "![Junk 3](../images/junk3.webp)\n",
    "- `obsolete` is an old house photo. Actually, it's a close neighbour of the previous label.\n",
    "![Obsolete 1](../images/obsolete1.webp)\n",
    "![Obsolete 2](../images/obsolete2.webp)\n",
    "![Obsolete 3](../images/obsolete3.webp)\n",
    "- `outline` is not a flat itself, it's just a drawing. Quite unpredictable label, but often these photos are attached to flats in new houses.\n",
    "![Outline 1](../images/outline1.webp)\n",
    "![Outline 2](../images/outline2.webp)\n",
    "![Outline 3](../images/outline3.webp)\n",
    "- `novelty` is an image of a house. What's more, it's a new building. But these photos have a trick: inner apartments may be under construction, but the image can't reflect it.\n",
    "![Novelty 1](../images/novelty1.webp)\n",
    "![Novelty 2](../images/novelty2.webp)\n",
    "![Novelty 3](../images/novelty3.webp)\n",
    "- `view` is a photo from the flat's balcony or window. Typically, includes sky, houses & yards nearby, sea, far fields & forests.\n",
    "![View 1](../images/view1.webp)\n",
    "![View 2](../images/view2.webp)\n",
    "![View 3](../images/view3.webp)"
   ]
  },
  {
   "cell_type": "code",
   "execution_count": null,
   "metadata": {},
   "outputs": [],
   "source": [
    "%matplotlib inline"
   ]
  },
  {
   "cell_type": "code",
   "execution_count": null,
   "metadata": {},
   "outputs": [],
   "source": [
    "from cv2 import imread, IMREAD_COLOR, cvtColor, COLOR_BGR2RGB, IMREAD_GRAYSCALE, imwrite, inpaint, INPAINT_TELEA\n",
    "from plotly.subplots import make_subplots\n",
    "from plotly.graph_objs import Image, Pie, Figure\n",
    "from plotly.offline import init_notebook_mode, iplot\n",
    "from plotly.express import imshow\n",
    "from re import match\n",
    "from numpy import stack, copy\n",
    "from glob import glob\n",
    "from pandas import DataFrame\n",
    "from sklearn.model_selection import train_test_split\n",
    "from torch.utils.data import Dataset, DataLoader\n",
    "from torchvision.transforms import Compose, ToTensor, Normalize"
   ]
  },
  {
   "cell_type": "code",
   "execution_count": null,
   "metadata": {},
   "outputs": [],
   "source": [
    "init_notebook_mode(True)"
   ]
  },
  {
   "cell_type": "code",
   "execution_count": null,
   "metadata": {},
   "outputs": [],
   "source": [
    "def parse(path):\n",
    "    result = match(r'^.*/(\\w+)\\.(\\w+)\\.webp$', path)\n",
    "    return ('unknown', 'unknown') if not result else result.groups()    "
   ]
  },
  {
   "cell_type": "code",
   "execution_count": null,
   "metadata": {},
   "outputs": [],
   "source": [
    "def d3(matrix):\n",
    "    return stack((matrix, matrix, matrix), 2)"
   ]
  },
  {
   "cell_type": "code",
   "execution_count": null,
   "metadata": {},
   "outputs": [],
   "source": [
    "url = '../data/auge/images/d379f0f7ed01b7290a3a905e9daba1d1276ef7d3.comfort.webp'\n",
    "gray = imread(url, IMREAD_GRAYSCALE)\n",
    "mask = copy(gray)\n",
    "mask[341:443, 125:272] = 255\n",
    "mask[:341, :] = 0\n",
    "mask[443:, :] = 0\n",
    "mask[:, :125] = 0\n",
    "mask[:, 272:] = 0\n",
    "for x in range(125, 165):\n",
    "    mask[:382 + 126 - x, x] = 0\n",
    "for x in range(210, 272):\n",
    "    mask[:x + 130, x] = 0\n",
    "name, label = parse(url)\n",
    "iplot(\n",
    "    make_subplots(cols=2, horizontal_spacing=0.03)\n",
    "    .add_trace(Image(z=d3(gray), name=''), 1, 1)\n",
    "    .add_trace(Image(z=d3(mask), name=''), 1, 2)\n",
    "    .update_layout(title=f'{name} - {label}', margin={'t': 40, 'r': 0, 'b': 0, 'l': 0}, height=380)\n",
    "    .update_xaxes(showticklabels=False)\n",
    "    .update_yaxes(showticklabels=False)\n",
    ")\n",
    "imwrite('../data/auge/masks/olymp.jpeg', mask)\n",
    "pass"
   ]
  },
  {
   "cell_type": "code",
   "execution_count": null,
   "metadata": {},
   "outputs": [],
   "source": [
    "url = '../data/auge/images/b7bb98d1f53cbc8614fad2e5926975a13904e135.construction.webp'\n",
    "bgr = imread(url, IMREAD_COLOR)\n",
    "name, label = parse(url)\n",
    "iplot(\n",
    "    make_subplots(cols=2, horizontal_spacing=0.03)\n",
    "    .add_trace(Image(z=cvtColor(bgr, COLOR_BGR2RGB), name=''), 1, 1)\n",
    "    .add_trace(\n",
    "        Image(\n",
    "            z=cvtColor(\n",
    "                inpaint(bgr, imread('../data/auge/masks/domria.jpeg', IMREAD_GRAYSCALE), 4, INPAINT_NS),\n",
    "                COLOR_BGR2RGB\n",
    "            ),\n",
    "            name=''\n",
    "        ),\n",
    "        1,\n",
    "        2\n",
    "    )\n",
    "    .update_layout(title=f'{name} - {label}', margin={'t': 40, 'r': 0, 'b': 0, 'l': 0}, height=380)\n",
    "    .update_xaxes(showticklabels=False)\n",
    "    .update_yaxes(showticklabels=False)\n",
    ")"
   ]
  },
  {
   "cell_type": "code",
   "execution_count": null,
   "metadata": {},
   "outputs": [],
   "source": [
    "labels = ['unknown', 'luxury', 'comfort', 'junk', 'construction', 'obsolete', 'outline', 'novelty', 'view']\n",
    "mappings = {l: i for i, l in enumerate(labels)}"
   ]
  },
  {
   "cell_type": "code",
   "execution_count": null,
   "metadata": {},
   "outputs": [],
   "source": [
    "images = DataFrame({'path': glob('../data/auge/images/*.webp')})\n",
    "images['label'] = images['path'].apply(lambda p: mappings[parse(p)[1]])"
   ]
  },
  {
   "cell_type": "code",
   "execution_count": null,
   "metadata": {},
   "outputs": [],
   "source": [
    "counts = images['label'].value_counts()\n",
    "iplot(\n",
    "    Figure()\n",
    "    .add_trace(Pie(labels=[labels[i] for i in counts.index], values=counts.values))\n",
    "    .update_layout(margin={'t': 30, 'r': 0, 'b': 0, 'l': 0})\n",
    ")"
   ]
  },
  {
   "cell_type": "code",
   "execution_count": null,
   "metadata": {},
   "outputs": [],
   "source": [
    "class AugeDataset(Dataset):\n",
    "    def __init__(self, data):\n",
    "        self._data = data.values\n",
    "        self._transforms = Compose(\n",
    "            [ToTensor(), Normalize([0.485, 0.456, 0.406], [0.229, 0.224, 0.225], True)]\n",
    "        )\n",
    "\n",
    "    def __len__(self):\n",
    "        return len(self._data)\n",
    "\n",
    "    def __getitem__(self, index):\n",
    "        path, label = self._data[index]\n",
    "        return self._transforms(cvtColor(imread(path, IMREAD_COLOR), COLOR_BGR2RGB)), label"
   ]
  },
  {
   "cell_type": "code",
   "execution_count": null,
   "metadata": {},
   "outputs": [],
   "source": [
    "training_images, testing_images = train_test_split(images, test_size=0.2, stratify=images['label'])\n",
    "training_images, validation_images = train_test_split(\n",
    "    training_images,\n",
    "    test_size=0.2,\n",
    "    stratify=training_images['label']\n",
    ")\n",
    "batch_size = 4\n",
    "training_loader = DataLoader(AugeDataset(training_images), batch_size, True)\n",
    "validation_loader = DataLoader(AugeDataset(validation_images), batch_size)\n",
    "testing_loader = DataLoader(AugeDataset(testing_images), batch_size)"
   ]
  }
 ],
 "metadata": {
  "kernelspec": {
   "display_name": "Python 3",
   "language": "python",
   "name": "python3"
  },
  "language_info": {
   "codemirror_mode": {
    "name": "ipython",
    "version": 3
   },
   "file_extension": ".py",
   "mimetype": "text/x-python",
   "name": "python",
   "nbconvert_exporter": "python",
   "pygments_lexer": "ipython3",
   "version": "3.8.6"
  }
 },
 "nbformat": 4,
 "nbformat_minor": 4
}
