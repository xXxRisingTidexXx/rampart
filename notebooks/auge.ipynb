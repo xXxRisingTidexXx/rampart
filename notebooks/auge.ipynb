{
 "cells": [
  {
   "cell_type": "markdown",
   "metadata": {},
   "source": [
    "![Rampart Logo](../images/logo.png)\n",
    "\n",
    "Auge is an image classification model. Its main target's to recognize common photos to determine a few flat publication's features. Each image belongs to a specific realty, having a bunch of photo & panorama recognized **twinkle** can better predict apartments' order.\n",
    "\n",
    "## I/O\n",
    "Required data consists of two parts + remote image CDN:\n",
    "- Training references lie in `../data/auge/training.csv` ;\n",
    "- Testing links lie in `../data/auge/testing.csv` .\n",
    "\n",
    "Currently the DB containes images of two types: simple photos & wide (360 deg) panoramas. Until a stable classification model panoramas should be omitted. Final classifier must be stored into `../models/auge.pth` .\n",
    "\n",
    "## Classes\n",
    "- `luxury` is a flat with rich furniture, huge rooms, chandeliers, fireplaces, etc.\n",
    "![Luxury 1](../images/luxury1.webp)\n",
    "![Luxury 2](../images/luxury2.webp)\n",
    "![Luxury 3](../images/luxury3.webp)\n",
    "- `comfort` is the most suitable for an ordinary citizen apartments. Clean, neat, sometimes minimalistic, average area, qualitive furniture, etc.\n",
    "![Comfort 1](../images/comfort1.webp)\n",
    "![Comfort 2](../images/comfort2.webp)\n",
    "![Comfort 3](../images/comfort3.webp)\n",
    "- `construction` is a flat without a finished design. No doors, floor, supplies, wallpapers, ceiling, furniture, etc. Typically, new buildings contain these apartments.\n",
    "![Construction 1](../images/construction1.webp)\n",
    "![Construction 2](../images/construction2.webp)\n",
    "![Construction 3](../images/construction3.webp)\n",
    "- `junk` is an old flat image. Probably, the whole apartments should belong to a dormitory, Khrushchevka or gostinka.\n",
    "![Junk 1](../images/junk1.webp)\n",
    "![Junk 2](../images/junk2.webp)\n",
    "![Junk 3](../images/junk3.webp)\n",
    "- `obsolete` is an old house photo. Actually, it's a close neighbour of the previous label.\n",
    "![Obsolete 1](../images/obsolete1.webp)\n",
    "![Obsolete 2](../images/obsolete2.webp)\n",
    "![Obsolete 3](../images/obsolete3.webp)\n",
    "- `outline` is not a flat itself, it's just a drawing. Quite unpredictable label, but often these photos are attached to flats in new houses.\n",
    "![Outline 1](../images/outline1.webp)\n",
    "![Outline 2](../images/outline2.webp)\n",
    "![Outline 3](../images/outline3.webp)\n",
    "- `novelty` is an image of a house. What's more, it's a new building. But these photos have a trick: inner apartments may be under construction, but the image can't reflect it.\n",
    "![Novelty 1](../images/novelty1.webp)\n",
    "![Novelty 2](../images/novelty2.webp)\n",
    "![Novelty 3](../images/novelty3.webp)\n",
    "- `view` is a photo from the flat's balcony or window. Typically, includes sky, houses & yards nearby, sea, far fields & forests.\n",
    "![View 1](../images/view1.webp)\n",
    "![View 2](../images/view2.webp)\n",
    "![View 3](../images/view3.webp)\n",
    "- `unknown` is the default class of an image tuple. Unclassified photos & broken/abandoned links also obtain this label."
   ]
  },
  {
   "cell_type": "code",
   "execution_count": null,
   "metadata": {},
   "outputs": [],
   "source": [
    "%matplotlib inline"
   ]
  },
  {
   "cell_type": "code",
   "execution_count": null,
   "metadata": {},
   "outputs": [],
   "source": [
    "from cv2 import (\n",
    "    imread, IMREAD_COLOR, cvtColor, COLOR_BGR2RGB, threshold, THRESH_BINARY, IMREAD_GRAYSCALE, imwrite, inpaint,\n",
    "    INPAINT_NS\n",
    ")\n",
    "from plotly.subplots import make_subplots\n",
    "from plotly.graph_objs import Image\n",
    "from plotly.offline import init_notebook_mode, iplot\n",
    "from plotly.express import imshow\n",
    "from glob import glob\n",
    "from re import match\n",
    "from numpy import stack, copy\n",
    "from functools import reduce"
   ]
  },
  {
   "cell_type": "code",
   "execution_count": null,
   "metadata": {},
   "outputs": [],
   "source": [
    "init_notebook_mode(True)"
   ]
  },
  {
   "cell_type": "code",
   "execution_count": null,
   "metadata": {},
   "outputs": [],
   "source": [
    "def parse(path):\n",
    "    result = match(r'^.*/(\\w+)\\.(\\w+)\\.webp$', path)\n",
    "    return ('unknown', 'unknown') if not result else result.groups()    "
   ]
  },
  {
   "cell_type": "code",
   "execution_count": null,
   "metadata": {},
   "outputs": [],
   "source": [
    "def d3(matrix):\n",
    "    return stack((matrix, matrix, matrix), 2)"
   ]
  },
  {
   "cell_type": "code",
   "execution_count": null,
   "metadata": {},
   "outputs": [],
   "source": [
    "url = '../data/auge/images/739ebd651311b9b242635dbf5369eef279af1070.comfort.webp'\n",
    "gray = imread(url, IMREAD_GRAYSCALE)\n",
    "mask = copy(gray)\n",
    "mask[:340, :] = 0\n",
    "mask[:, 210:] = 0\n",
    "mask = threshold(mask, 150, 255, THRESH_BINARY)[1]\n",
    "name, label = parse(url)\n",
    "iplot(\n",
    "    make_subplots(cols=2, horizontal_spacing=0.03)\n",
    "    .add_trace(Image(z=d3(gray), name=''), 1, 1)\n",
    "    .add_trace(Image(z=d3(mask), name=''), 1, 2)\n",
    "    .update_layout(title=f'{name} - {label}', margin={'t': 40, 'r': 0, 'b': 0, 'l': 0}, height=380)\n",
    "    .update_xaxes(showticklabels=False)\n",
    "    .update_yaxes(showticklabels=False)\n",
    ")\n",
    "imwrite('../data/auge/masks/olymp.jpeg', mask)\n",
    "pass"
   ]
  },
  {
   "cell_type": "code",
   "execution_count": null,
   "metadata": {},
   "outputs": [],
   "source": [
    "url = '../data/auge/images/9ae94f0af5f75ab9ec0c5a5e5cafbbe5d8a34282.comfort.webp'\n",
    "bgr = imread(url, IMREAD_COLOR)\n",
    "name, label = parse(url)\n",
    "iplot(\n",
    "    make_subplots(cols=2, horizontal_spacing=0.03)\n",
    "    .add_trace(Image(z=cvtColor(bgr, COLOR_BGR2RGB), name=''), 1, 1)\n",
    "    .add_trace(\n",
    "        Image(\n",
    "            z=cvtColor(\n",
    "                reduce(\n",
    "                    lambda i, p: inpaint(i, imread(p, IMREAD_GRAYSCALE), 5, INPAINT_NS),\n",
    "                    glob('../data/auge/masks/*.jpeg'),\n",
    "                    bgr\n",
    "                ),\n",
    "                COLOR_BGR2RGB\n",
    "            ),\n",
    "            name=''\n",
    "        ),\n",
    "        1,\n",
    "        2\n",
    "    )\n",
    "    .update_layout(title=f'{name} - {label}', margin={'t': 40, 'r': 0, 'b': 0, 'l': 0}, height=380)\n",
    "    .update_xaxes(showticklabels=False)\n",
    "    .update_yaxes(showticklabels=False)\n",
    ")"
   ]
  }
 ],
 "metadata": {
  "kernelspec": {
   "display_name": "Python 3",
   "language": "python",
   "name": "python3"
  },
  "language_info": {
   "codemirror_mode": {
    "name": "ipython",
    "version": 3
   },
   "file_extension": ".py",
   "mimetype": "text/x-python",
   "name": "python",
   "nbconvert_exporter": "python",
   "pygments_lexer": "ipython3",
   "version": "3.8.6"
  }
 },
 "nbformat": 4,
 "nbformat_minor": 4
}
