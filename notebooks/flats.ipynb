{
 "cells": [
  {
   "cell_type": "markdown",
   "metadata": {},
   "source": [
    "![Rampart Logo](../images/logo.png)"
   ]
  },
  {
   "cell_type": "markdown",
   "metadata": {},
   "source": [
    "Interactive visualization and data analysis notebook. There's no model training here, instead this tool is supposed to be used against the parsed database, especially its table **flats**."
   ]
  },
  {
   "cell_type": "code",
   "execution_count": null,
   "metadata": {},
   "outputs": [],
   "source": [
    "%matplotlib inline"
   ]
  },
  {
   "cell_type": "code",
   "execution_count": null,
   "metadata": {},
   "outputs": [],
   "source": [
    "from pandas import read_sql\n",
    "from tabulate import tabulate\n",
    "from sqlalchemy import create_engine\n",
    "from os import environ\n",
    "from scipy.stats import zscore\n",
    "from numpy import abs, exp\n",
    "from ppscore import matrix\n",
    "from plotly.graph_objs import Histogram, Scatter, Figure, Bar, Heatmap\n",
    "from plotly.subplots import make_subplots"
   ]
  },
  {
   "cell_type": "code",
   "execution_count": null,
   "metadata": {},
   "outputs": [],
   "source": [
    "engine = create_engine(environ['RAMPART_DSN'])"
   ]
  },
  {
   "cell_type": "code",
   "execution_count": null,
   "metadata": {},
   "outputs": [],
   "source": [
    "def aggregate():\n",
    "    with engine.connect() as connection:\n",
    "        return read_sql(\n",
    "            'select city, count(*) as count from flats group by city order by count desc limit 10',\n",
    "            connection,\n",
    "            index_col=['city']\n",
    "        )"
   ]
  },
  {
   "cell_type": "code",
   "execution_count": null,
   "metadata": {},
   "outputs": [],
   "source": [
    "figure = Figure()\n",
    "cities = aggregate()\n",
    "figure.add_trace(Bar(x=cities.index, y=cities['count']))\n",
    "figure.update_layout(margin={'t': 30, 'r': 30, 'b': 30, 'l': 30}, height=400)\n",
    "figure.show()"
   ]
  },
  {
   "cell_type": "code",
   "execution_count": null,
   "metadata": {},
   "outputs": [],
   "source": [
    "def read():\n",
    "    with engine.connect() as connection:\n",
    "        return read_sql(\n",
    "            '''\n",
    "            select id,\n",
    "                   price,\n",
    "                   total_area,\n",
    "                   living_area,\n",
    "                   kitchen_area,\n",
    "                   room_number,\n",
    "                   floor,\n",
    "                   total_floor,\n",
    "                   case\n",
    "                       when housing = 'primary' then 0\n",
    "                       else 1\n",
    "                       end     as housing,\n",
    "                   ssf,\n",
    "                   izf,\n",
    "                   gzf\n",
    "            from flats\n",
    "            where city = 'Київ'\n",
    "            ''',\n",
    "            connection,\n",
    "            index_col=['id']\n",
    "        )"
   ]
  },
  {
   "cell_type": "code",
   "execution_count": null,
   "metadata": {
    "scrolled": false
   },
   "outputs": [],
   "source": [
    "flats = read()"
   ]
  },
  {
   "cell_type": "code",
   "execution_count": null,
   "metadata": {},
   "outputs": [],
   "source": [
    "interests = ['price', 'total_area', 'room_number', 'floor', 'total_floor', 'ssf', 'izf', 'gzf']"
   ]
  },
  {
   "cell_type": "code",
   "execution_count": null,
   "metadata": {},
   "outputs": [],
   "source": [
    "def render(frame):\n",
    "    print(tabulate(frame, headers='keys', tablefmt='psql', numalign='right'))"
   ]
  },
  {
   "cell_type": "code",
   "execution_count": null,
   "metadata": {},
   "outputs": [],
   "source": [
    "render(flats[interests].head(10))"
   ]
  },
  {
   "cell_type": "code",
   "execution_count": null,
   "metadata": {},
   "outputs": [],
   "source": [
    "flats.info()"
   ]
  },
  {
   "cell_type": "code",
   "execution_count": null,
   "metadata": {},
   "outputs": [],
   "source": [
    "render(flats[interests].describe())"
   ]
  },
  {
   "cell_type": "code",
   "execution_count": null,
   "metadata": {},
   "outputs": [],
   "source": [
    "print(\n",
    "    'Quite affordable flat amount:',\n",
    "    len(flats[(flats[\"price\"] <= 100000) & (flats[\"ssf\"] >= 2) & (flats[\"gzf\"] >= 2)]),\n",
    "    '/',\n",
    "    len(flats),\n",
    "    '.'\n",
    ")"
   ]
  },
  {
   "cell_type": "code",
   "execution_count": null,
   "metadata": {},
   "outputs": [],
   "source": [
    "majority = flats[(abs(zscore(flats)) < 2).all(1)]"
   ]
  },
  {
   "cell_type": "code",
   "execution_count": null,
   "metadata": {
    "scrolled": false
   },
   "outputs": [],
   "source": [
    "floats = ['price', 'total_area', 'living_area', 'kitchen_area', 'ssf', 'izf', 'gzf']\n",
    "figure = make_subplots(rows=len(floats))\n",
    "for i, column in enumerate(floats):\n",
    "    figure.add_trace(Histogram(x=majority[column], name=column, nbinsx=100), row=i + 1, col=1)\n",
    "figure.update_layout(margin={'t': 30, 'r': 30, 'b': 30, 'l': 30}, height=len(floats) * 300)\n",
    "figure.show()"
   ]
  },
  {
   "cell_type": "code",
   "execution_count": null,
   "metadata": {},
   "outputs": [],
   "source": [
    "def countplot(column):\n",
    "    figure = Figure()\n",
    "    for i, housing in enumerate(['primary', 'secondary']):\n",
    "        counts = flats[flats['housing'] == i][column].value_counts(sort=False)\n",
    "        figure.add_trace(Bar(x=counts.index, y=counts.values, name=housing))\n",
    "    figure.update_layout(\n",
    "        title=column,\n",
    "        barmode='stack',\n",
    "        margin={'t': 30, 'r': 30, 'b': 30, 'l': 30},\n",
    "        height=400\n",
    "    )\n",
    "    figure.show()"
   ]
  },
  {
   "cell_type": "code",
   "execution_count": null,
   "metadata": {},
   "outputs": [],
   "source": [
    "countplot('room_number')"
   ]
  },
  {
   "cell_type": "code",
   "execution_count": null,
   "metadata": {},
   "outputs": [],
   "source": [
    "countplot('floor')"
   ]
  },
  {
   "cell_type": "code",
   "execution_count": null,
   "metadata": {},
   "outputs": [],
   "source": [
    "countplot('total_floor')"
   ]
  },
  {
   "cell_type": "code",
   "execution_count": null,
   "metadata": {
    "scrolled": false
   },
   "outputs": [],
   "source": [
    "correlation = flats.corr()\n",
    "ppscore = matrix(flats)[['x', 'y', 'ppscore']].pivot(columns='x', index='y', values='ppscore')\n",
    "figure = make_subplots(cols=2, horizontal_spacing=0.18)\n",
    "figure.add_trace(\n",
    "    Heatmap(\n",
    "        x=correlation.columns,\n",
    "        y=correlation.index,\n",
    "        z=correlation,\n",
    "        zmin=-1,\n",
    "        zmax=1,\n",
    "        colorbar={'x': 0.41},\n",
    "        name=''\n",
    "    ),\n",
    "    row=1,\n",
    "    col=1\n",
    ")\n",
    "figure.add_trace(\n",
    "    Heatmap(\n",
    "        x=ppscore.columns,\n",
    "        y=ppscore.index,\n",
    "        z=ppscore,\n",
    "        zmin=0,\n",
    "        zmax=1,\n",
    "        colorbar={'x': 1},\n",
    "        name=''\n",
    "    ),\n",
    "    row=1, \n",
    "    col=2\n",
    ")\n",
    "figure.update_layout(\n",
    "    margin={'t': 30, 'r': 5, 'b': 30, 'l': 5},\n",
    "    height=420,\n",
    "    title='correlation vs ppscore'\n",
    ")\n",
    "figure.show()"
   ]
  },
  {
   "cell_type": "code",
   "execution_count": null,
   "metadata": {},
   "outputs": [],
   "source": [
    "def scatterplot(column1, column2='price'):\n",
    "    figure = Figure()\n",
    "    for i, housing in enumerate(['primary', 'secondary']):\n",
    "        apartments = flats[flats['housing'] == i]\n",
    "        figure.add_trace(Scatter(x=apartments[column1], y=apartments[column2], name=housing, mode='markers'))\n",
    "    figure.update_layout(\n",
    "        title=f'{column1} vs {column2}',\n",
    "        margin={'t': 30, 'r': 30, 'b': 30, 'l': 30},\n",
    "        height=400\n",
    "    )\n",
    "    figure.show()"
   ]
  },
  {
   "cell_type": "code",
   "execution_count": null,
   "metadata": {
    "scrolled": false
   },
   "outputs": [],
   "source": [
    "scatterplot('total_area')"
   ]
  },
  {
   "cell_type": "code",
   "execution_count": null,
   "metadata": {},
   "outputs": [],
   "source": [
    "scatterplot('living_area')"
   ]
  },
  {
   "cell_type": "code",
   "execution_count": null,
   "metadata": {},
   "outputs": [],
   "source": [
    "scatterplot('kitchen_area')"
   ]
  },
  {
   "cell_type": "code",
   "execution_count": null,
   "metadata": {},
   "outputs": [],
   "source": [
    "scatterplot('ssf')"
   ]
  },
  {
   "cell_type": "code",
   "execution_count": null,
   "metadata": {},
   "outputs": [],
   "source": [
    "scatterplot('izf')"
   ]
  },
  {
   "cell_type": "code",
   "execution_count": null,
   "metadata": {},
   "outputs": [],
   "source": [
    "scatterplot('gzf')"
   ]
  },
  {
   "cell_type": "code",
   "execution_count": null,
   "metadata": {},
   "outputs": [],
   "source": [
    "scatterplot('gzf', 'izf')"
   ]
  }
 ],
 "metadata": {
  "kernelspec": {
   "display_name": "Python 3",
   "language": "python",
   "name": "python3"
  },
  "language_info": {
   "codemirror_mode": {
    "name": "ipython",
    "version": 3
   },
   "file_extension": ".py",
   "mimetype": "text/x-python",
   "name": "python",
   "nbconvert_exporter": "python",
   "pygments_lexer": "ipython3",
   "version": "3.8.6"
  }
 },
 "nbformat": 4,
 "nbformat_minor": 4
}
