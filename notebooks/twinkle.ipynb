{
 "cells": [
  {
   "cell_type": "markdown",
   "metadata": {},
   "source": [
    "# Twinkle\n",
    "Flat ranking model. Based on learning to rank (LTR) technique. [Lambdarank](https://www.microsoft.com/en-us/research/uploads/prod/2016/02/MSR-TR-2010-82.pdf) is used as the main logical engine. The final ranker is supposed to relevantly order housing publications to a final Telegram user. Real-time ranking power can be checked via a local dev service **browsing** .\n",
    "\n",
    "## I/O\n",
    "Required data consists of two parts:\n",
    "- Training tabular data lies in `/home/jovyan/data/training.csv` ;\n",
    "- Testing (validation) tabular data lies in `/home/jovyan/data/testing.csv` .\n",
    "\n",
    "Output model must be stored into `/home/jovyan/models/twinkle.txt` .\n",
    "\n",
    "## Features\n",
    "- `actual_price` - true flat's price (in USD);\n",
    "- `utmost_price` - query's price limit (in USD), search results shouldn't exceed much this shape;\n",
    "- `total_area` - overall apartment's area (in square meters);\n",
    "- `living_area` - flat's living room area (in square meters);\n",
    "- `kitchen_area` - flat's kitchen area (in square meters);\n",
    "- `actual_room_number` - true flat's living room amount;\n",
    "- `desired_room_number` - target room count;\n",
    "- `actual_floor` - apartment's floor (the ground floor is the floor #1);\n",
    "- `total_floor` - house's floor count;\n",
    "- `desired_floor` - target flat's floor;\n",
    "- `housing` - either a newbuild or a used apartments;\n",
    "- `ssf` - Subway Station Factor, the score indicating about subway stations nearby;\n",
    "- `izf` - Industrial Zone Factor, the score indicating about factories & plants nearby;\n",
    "- `gzf` - Green Zone Factor, the score indicating about parks nearby;\n",
    "- `relevance` - sample's search quality (just for training);\n",
    "- `query` - sample's group ID (just for training).\n",
    "\n",
    "## Categorical data\n",
    "All feature categories are sorted according to their ranks.\n",
    "- `desired_room_number`\n",
    "    * `whatever` - not matter how many rooms;\n",
    "    * `1` - 1 room;\n",
    "    * `2` - 2 rooms;\n",
    "    * `3` - 3 rooms;\n",
    "    * `4+` - huge luxurious apartments with many rooms;\n",
    "- `desired_floor`\n",
    "    * `whatever` - not matter what floor;\n",
    "    * `low` - low floors are preferred;\n",
    "    * `high` - top floors are preferred;\n",
    "- `housing`\n",
    "    * `primary` - newbuilds & houses under construction;\n",
    "    * `secondary` - old & already used apartments;\n",
    "- `relevance`\n",
    "    * `terrible` - don't show this thing again!\n",
    "    * `bad` - poor quality;\n",
    "    * `so-so` - average result;\n",
    "    * `good` - quite smart search;\n",
    "    * `excellent` - the best matches."
   ]
  },
  {
   "cell_type": "code",
   "execution_count": 2,
   "metadata": {},
   "outputs": [],
   "source": [
    "from pandas import read_csv\n",
    "from lightgbm import train, Dataset"
   ]
  },
  {
   "cell_type": "code",
   "execution_count": 3,
   "metadata": {},
   "outputs": [],
   "source": [
    "def load(path, params, reference=None):\n",
    "    frame = read_csv(path)\n",
    "    return Dataset(\n",
    "        frame.drop(columns=['relevance', 'query']),\n",
    "        frame['relevance'],\n",
    "        group=frame.groupby(['query']).size(),\n",
    "        categorical_feature=['desired_room_number', 'desired_floor', 'housing'],\n",
    "        reference=reference,\n",
    "        params=params\n",
    "    )"
   ]
  },
  {
   "cell_type": "code",
   "execution_count": 5,
   "metadata": {},
   "outputs": [
    {
     "name": "stdout",
     "output_type": "stream",
     "text": [
      "[LightGBM] [Warning] Auto-choosing col-wise multi-threading, the overhead of testing was 0.048245 seconds.\n",
      "You can set `force_col_wise=true` to remove the overhead.\n",
      "[LightGBM] [Info] Total Bins 1538\n",
      "[LightGBM] [Info] Number of data points in the train set: 1350, number of used features: 14\n",
      "[1]\tvalid_0's ndcg@1: 0.681481\tvalid_0's ndcg@2: 0.561127\tvalid_0's ndcg@3: 0.610224\tvalid_0's ndcg@4: 0.616368\tvalid_0's ndcg@5: 0.636542\n",
      "Training until validation scores don't improve for 15 rounds\n",
      "[2]\tvalid_0's ndcg@1: 0.807407\tvalid_0's ndcg@2: 0.707112\tvalid_0's ndcg@3: 0.673786\tvalid_0's ndcg@4: 0.673082\tvalid_0's ndcg@5: 0.6551\n",
      "[3]\tvalid_0's ndcg@1: 0.807407\tvalid_0's ndcg@2: 0.738634\tvalid_0's ndcg@3: 0.753274\tvalid_0's ndcg@4: 0.750052\tvalid_0's ndcg@5: 0.720191\n",
      "[4]\tvalid_0's ndcg@1: 0.585185\tvalid_0's ndcg@2: 0.653959\tvalid_0's ndcg@3: 0.730182\tvalid_0's ndcg@4: 0.715897\tvalid_0's ndcg@5: 0.725505\n",
      "[5]\tvalid_0's ndcg@1: 0.644444\tvalid_0's ndcg@2: 0.667369\tvalid_0's ndcg@3: 0.740445\tvalid_0's ndcg@4: 0.754325\tvalid_0's ndcg@5: 0.739453\n",
      "[6]\tvalid_0's ndcg@1: 0.525926\tvalid_0's ndcg@2: 0.640549\tvalid_0's ndcg@3: 0.719918\tvalid_0's ndcg@4: 0.722304\tvalid_0's ndcg@5: 0.723296\n",
      "[7]\tvalid_0's ndcg@1: 0.525926\tvalid_0's ndcg@2: 0.640549\tvalid_0's ndcg@3: 0.706013\tvalid_0's ndcg@4: 0.725682\tvalid_0's ndcg@5: 0.734006\n",
      "[8]\tvalid_0's ndcg@1: 0.6\tvalid_0's ndcg@2: 0.657312\tvalid_0's ndcg@3: 0.718843\tvalid_0's ndcg@4: 0.736354\tvalid_0's ndcg@5: 0.721897\n",
      "[9]\tvalid_0's ndcg@1: 0.540741\tvalid_0's ndcg@2: 0.68402\tvalid_0's ndcg@3: 0.714951\tvalid_0's ndcg@4: 0.733117\tvalid_0's ndcg@5: 0.715196\n",
      "[10]\tvalid_0's ndcg@1: 0.540741\tvalid_0's ndcg@2: 0.643901\tvalid_0's ndcg@3: 0.708579\tvalid_0's ndcg@4: 0.717853\tvalid_0's ndcg@5: 0.705823\n",
      "[11]\tvalid_0's ndcg@1: 0.540741\tvalid_0's ndcg@2: 0.643901\tvalid_0's ndcg@3: 0.708579\tvalid_0's ndcg@4: 0.717853\tvalid_0's ndcg@5: 0.69416\n",
      "[12]\tvalid_0's ndcg@1: 0.6\tvalid_0's ndcg@2: 0.657312\tvalid_0's ndcg@3: 0.718843\tvalid_0's ndcg@4: 0.736354\tvalid_0's ndcg@5: 0.714121\n",
      "[13]\tvalid_0's ndcg@1: 0.6\tvalid_0's ndcg@2: 0.680236\tvalid_0's ndcg@3: 0.722484\tvalid_0's ndcg@4: 0.72942\tvalid_0's ndcg@5: 0.690603\n",
      "[14]\tvalid_0's ndcg@1: 0.6\tvalid_0's ndcg@2: 0.731817\tvalid_0's ndcg@3: 0.716772\tvalid_0's ndcg@4: 0.734631\tvalid_0's ndcg@5: 0.722343\n",
      "[15]\tvalid_0's ndcg@1: 0.6\tvalid_0's ndcg@2: 0.754741\tvalid_0's ndcg@3: 0.744746\tvalid_0's ndcg@4: 0.75043\tvalid_0's ndcg@5: 0.722463\n",
      "[16]\tvalid_0's ndcg@1: 0.703704\tvalid_0's ndcg@2: 0.778209\tvalid_0's ndcg@3: 0.79052\tvalid_0's ndcg@4: 0.784484\tvalid_0's ndcg@5: 0.746748\n",
      "[17]\tvalid_0's ndcg@1: 0.703704\tvalid_0's ndcg@2: 0.743822\tvalid_0's ndcg@3: 0.762215\tvalid_0's ndcg@4: 0.777272\tvalid_0's ndcg@5: 0.732682\n",
      "Early stopping, best iteration is:\n",
      "[2]\tvalid_0's ndcg@1: 0.807407\tvalid_0's ndcg@2: 0.707112\tvalid_0's ndcg@3: 0.673786\tvalid_0's ndcg@4: 0.673082\tvalid_0's ndcg@5: 0.6551\n"
     ]
    }
   ],
   "source": [
    "params = {'objective': 'lambdarank', 'metric': 'ndcg'}\n",
    "training = load('/home/jovyan/data/training.csv', params)\n",
    "testing = load('/home/jovyan/data/testing.csv', params, training)\n",
    "train(params, training, 30, [testing], early_stopping_rounds=15).save_model('/home/jovyan/models/twinkle.txt')\n",
    "pass"
   ]
  }
 ],
 "metadata": {
  "kernelspec": {
   "display_name": "Python 3",
   "language": "python",
   "name": "python3"
  },
  "language_info": {
   "codemirror_mode": {
    "name": "ipython",
    "version": 3
   },
   "file_extension": ".py",
   "mimetype": "text/x-python",
   "name": "python",
   "nbconvert_exporter": "python",
   "pygments_lexer": "ipython3",
   "version": "3.8.3"
  }
 },
 "nbformat": 4,
 "nbformat_minor": 4
}
