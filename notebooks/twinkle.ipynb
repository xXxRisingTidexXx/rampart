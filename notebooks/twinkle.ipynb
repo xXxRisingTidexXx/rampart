{
 "cells": [
  {
   "cell_type": "markdown",
   "metadata": {},
   "source": [
    "![Rampart Logo](../images/logo.png)\n",
    "\n",
    "Twinkle is a flat ranking model based on the learning to rank (LTR) technique. [Lambdarank](https://www.microsoft.com/en-us/research/uploads/prod/2016/02/MSR-TR-2010-82.pdf) is used as the main logical engine. The final ranker is supposed to relevantly order housing publications to a final Telegram user. Real-time ranking power can be checked via a local dev service **browsing** .\n",
    "\n",
    "## I/O\n",
    "Required data consists of two parts:\n",
    "- Training tabular data lies in `../data/twinkle/training.csv` ;\n",
    "- Testing (validation) tabular data lies in `../data/twinkle/testing.csv` .\n",
    "\n",
    "Output model must be stored into `../models/twinkle.txt` .\n",
    "\n",
    "## Features\n",
    "- `actual_price` - true flat's price (in USD);\n",
    "- `utmost_price` - query's price limit (in USD), search results shouldn't exceed much this shape;\n",
    "- `total_area` - overall apartment's area (in square meters);\n",
    "- `living_area` - flat's living room area (in square meters);\n",
    "- `kitchen_area` - flat's kitchen area (in square meters);\n",
    "- `actual_room_number` - true flat's living room amount;\n",
    "- `desired_room_number` - target room count;\n",
    "- `actual_floor` - apartment's floor (the ground floor is the floor #1);\n",
    "- `total_floor` - house's floor count;\n",
    "- `desired_floor` - target flat's floor;\n",
    "- `housing` - either a newbuild or a used apartments;\n",
    "- `ssf` - Subway Station Factor, the score indicating about subway stations nearby;\n",
    "- `izf` - Industrial Zone Factor, the score indicating about factories & plants nearby;\n",
    "- `gzf` - Green Zone Factor, the score indicating about parks nearby;\n",
    "- `relevance` - sample's search quality (just for training);\n",
    "- `query` - sample's group ID (just for training).\n",
    "\n",
    "## Categorical data\n",
    "All feature categories are sorted according to their ranks.\n",
    "- `desired_room_number`\n",
    "    * `whatever` - not matter how many rooms;\n",
    "    * `1` - 1 room;\n",
    "    * `2` - 2 rooms;\n",
    "    * `3` - 3 rooms;\n",
    "    * `4+` - huge luxurious apartments with many rooms;\n",
    "- `desired_floor`\n",
    "    * `whatever` - not matter what floor;\n",
    "    * `low` - low floors are preferred;\n",
    "    * `high` - top floors are preferred;\n",
    "- `housing`\n",
    "    * `primary` - newbuilds & houses under construction;\n",
    "    * `secondary` - old & already used apartments;\n",
    "- `relevance`\n",
    "    * `terrible` - don't show this thing again!\n",
    "    * `bad` - poor quality;\n",
    "    * `so-so` - average result;\n",
    "    * `good` - quite smart search;\n",
    "    * `excellent` - the best matches."
   ]
  },
  {
   "cell_type": "code",
   "execution_count": null,
   "metadata": {},
   "outputs": [],
   "source": [
    "%matplotlib inline"
   ]
  },
  {
   "cell_type": "code",
   "execution_count": null,
   "metadata": {},
   "outputs": [],
   "source": [
    "from pandas import read_csv\n",
    "from lightgbm import train, Dataset"
   ]
  },
  {
   "cell_type": "code",
   "execution_count": null,
   "metadata": {},
   "outputs": [],
   "source": [
    "def load(path, params, reference=None):\n",
    "    frame = read_csv(path)\n",
    "    return Dataset(\n",
    "        frame.drop(columns=['relevance', 'query']),\n",
    "        frame['relevance'],\n",
    "        group=frame.groupby(['query']).size(),\n",
    "        categorical_feature=['desired_room_number', 'desired_floor', 'housing'],\n",
    "        reference=reference,\n",
    "        params=params\n",
    "    )"
   ]
  },
  {
   "cell_type": "code",
   "execution_count": null,
   "metadata": {},
   "outputs": [],
   "source": [
    "params = {'objective': 'lambdarank', 'metric': 'ndcg'}\n",
    "training = load('../data/twinkle/training.csv', params)\n",
    "testing = load('../data/twinkle/testing.csv', params, training)\n",
    "train(params, training, 30, [testing], early_stopping_rounds=15).save_model('../models/twinkle.txt')\n",
    "pass"
   ]
  }
 ],
 "metadata": {
  "kernelspec": {
   "display_name": "Python 3",
   "language": "python",
   "name": "python3"
  },
  "language_info": {
   "codemirror_mode": {
    "name": "ipython",
    "version": 3
   },
   "file_extension": ".py",
   "mimetype": "text/x-python",
   "name": "python",
   "nbconvert_exporter": "python",
   "pygments_lexer": "ipython3",
   "version": "3.8.6"
  }
 },
 "nbformat": 4,
 "nbformat_minor": 4
}
