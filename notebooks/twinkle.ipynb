{
 "cells": [
  {
   "cell_type": "markdown",
   "metadata": {},
   "source": [
    "![Rampart Logo](../images/logo.png)\n",
    "\n",
    "Twinkle is a flat ranking model based on the learning to rank (LTR) technique. [Lambdarank](https://www.microsoft.com/en-us/research/uploads/prod/2016/02/MSR-TR-2010-82.pdf) is used as the main logical engine. The final ranker is supposed to relevantly order housing publications to a final Telegram user.\n",
    "\n",
    "## I/O\n",
    "All datasets lie in `../scientific/binaries` . Final model must be stored into `../scientific/models/twinkle.latest.txt` .\n",
    "\n",
    "## Metadata\n",
    "Dataset files have self-explained names:\n",
    "```\n",
    "<tag>.<group>.bin\n",
    "```\n",
    "For instance:\n",
    "```\n",
    "70e36b1e47754064ad14b57a5c79d5bc.validation.bin\n",
    "```\n",
    "Placeholders in angle brackets:\n",
    "- `tag` , UUID4 generated hash.\n",
    "- `group` , dataset's destination - one of `training` or `validation` .\n",
    "\n",
    "## Features\n",
    "- `actual_price` - true flat's price (in USD).\n",
    "- `utmost_price` - query's price limit (in USD), search results shouldn't exceed much this shape.\n",
    "- `total_area` - overall apartment's area (in square meters).\n",
    "- `living_area` - flat's living room area (in square meters).\n",
    "- `kitchen_area` - flat's kitchen area (in square meters).\n",
    "- `actual_room_number` - true flat's living room amount.\n",
    "- `desired_room_number` - target room count.\n",
    "- `actual_floor` - apartment's floor (the ground floor is the floor #1).\n",
    "- `total_floor` - house's floor count.\n",
    "- `desired_floor` - target flat's floor.\n",
    "- `housing` - either a newbuild or a used apartments.\n",
    "- `ssf` - Subway Station Factor, the score indicating about subway stations nearby.\n",
    "- `izf` - Industrial Zone Factor, the score indicating about factories & plants nearby.\n",
    "- `gzf` - Green Zone Factor, the score indicating about parks nearby.\n",
    "- `unknown_count` - unclassified photo amount.\n",
    "- `abandoned_count` - unavailable/not found photo quantity.\n",
    "- `luxury_count` - elite housing photo number.\n",
    "- `comfort_count` - ordinary flat pictures.\n",
    "- `junk_count` - obsolete apartment interior photo amount.\n",
    "- `construction_count` - raw building images.\n",
    "- `excess_count` - trash photo amount.\n",
    "- `panorama_count` - panorama (360 deg) image number.\n",
    "\n",
    "## Categorical data\n",
    "All feature categories are sorted according to their ranks from the lowest to the highest:\n",
    "- `desired_room_number`\n",
    "    * `whatever` - not matter how many rooms;\n",
    "    * `1` - 1 room;\n",
    "    * `2` - 2 rooms;\n",
    "    * `3` - 3 rooms;\n",
    "    * `4+` - huge luxurious apartments with many rooms;\n",
    "- `desired_floor`\n",
    "    * `whatever` - not matter what floor;\n",
    "    * `low` - low floors are preferred;\n",
    "    * `high` - top floors are preferred;\n",
    "- `housing`\n",
    "    * `primary` - newbuilds & houses under construction;\n",
    "    * `secondary` - old & already used apartments;\n",
    "- `relevance`\n",
    "    * `terrible` - don't show this thing again!\n",
    "    * `bad` - poor quality;\n",
    "    * `so-so` - average result;\n",
    "    * `good` - quite smart search;\n",
    "    * `excellent` - the best matches."
   ]
  },
  {
   "cell_type": "code",
   "execution_count": null,
   "metadata": {},
   "outputs": [],
   "source": [
    "%matplotlib inline"
   ]
  },
  {
   "cell_type": "code",
   "execution_count": null,
   "metadata": {},
   "outputs": [],
   "source": [
    "from lightgbm import train, Dataset\n",
    "from uuid import uuid4"
   ]
  },
  {
   "cell_type": "code",
   "execution_count": null,
   "metadata": {},
   "outputs": [],
   "source": [
    "training_dataset = Dataset('../scientific/binaries/latest.training.bin')\n",
    "validation_dataset = training_dataset.create_valid('../scientific/binaries/latest.validation.bin')"
   ]
  },
  {
   "cell_type": "code",
   "execution_count": null,
   "metadata": {},
   "outputs": [],
   "source": [
    "booster = train(\n",
    "    {'objective': 'lambdarank', 'metric': 'ndcg', 'force_row_wise': True},\n",
    "    training_dataset,\n",
    "    15,\n",
    "    [validation_dataset],\n",
    "    early_stopping_rounds=10\n",
    ")\n",
    "booster.save_model('../scientific/models/twinkle.latest.txt')\n",
    "booster.save_model(f'../scientific/models/twinkle.{uuid4().hex}.txt')\n",
    "pass"
   ]
  }
 ],
 "metadata": {
  "kernelspec": {
   "display_name": "Python 3",
   "language": "python",
   "name": "python3"
  },
  "language_info": {
   "codemirror_mode": {
    "name": "ipython",
    "version": 3
   },
   "file_extension": ".py",
   "mimetype": "text/x-python",
   "name": "python",
   "nbconvert_exporter": "python",
   "pygments_lexer": "ipython3",
   "version": "3.8.6"
  }
 },
 "nbformat": 4,
 "nbformat_minor": 4
}
