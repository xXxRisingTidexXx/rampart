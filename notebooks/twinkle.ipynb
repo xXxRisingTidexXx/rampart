{
 "cells": [
  {
   "cell_type": "markdown",
   "metadata": {},
   "source": [
    "![Rampart Logo](../images/logo.png)\n",
    "\n",
    "Twinkle is a flat relevance binary classifier. It leverages [LightGBM](https://lightgbm.readthedocs.io/en/latest/)\n",
    "to sieve acceptable & inappropriate flat publications via boosting methods. The model takes into account multiple\n",
    "geographical, user-specific & image-based features to decide whether an ordinary flat can be sent to a particular\n",
    "customer. Picture-relevant data is preliminary calculated by another module called Auge .\n",
    "\n",
    "## Features\n",
    "- `actual_price` - true flat's price (in USD).\n",
    "- `utmost_price` - query's price limit (in USD), search results shouldn't exceed much this shape.\n",
    "- `total_area` - overall apartment's area (in square meters).\n",
    "- `living_area` - flat's living room area (in square meters).\n",
    "- `kitchen_area` - flat's kitchen area (in square meters).\n",
    "- `actual_room_number` - true flat's living room amount.\n",
    "- `desired_room_number` - target room count.\n",
    "- `actual_floor` - apartment's floor (the ground floor is the floor #1).\n",
    "- `total_floor` - house's floor count.\n",
    "- `desired_floor` - target flat's floor.\n",
    "- `housing` - either a newbuild or a used apartments.\n",
    "- `ssf` - Subway Station Factor, the score indicating about subway stations nearby.\n",
    "- `izf` - Industrial Zone Factor, the score indicating about factories & plants nearby.\n",
    "- `gzf` - Green Zone Factor, the score indicating about parks nearby.\n",
    "- `abandoned_count` - unavailable/not found photo quantity.\n",
    "- `luxury_count` - elite housing photo number.\n",
    "- `comfort_count` - ordinary flat pictures.\n",
    "- `junk_count` - obsolete apartment interior photo amount.\n",
    "- `construction_count` - raw building images.\n",
    "- `excess_count` - trash photo amount.\n",
    "- `panorama_count` - panorama (360 deg) image number.\n",
    "\n",
    "## Categorical data\n",
    "All feature categories are sorted according to their ranks from the lowest to the highest:\n",
    "- `desired_room_number`\n",
    "    * `any` - not matter how many rooms.\n",
    "    * `one` - 1 room.\n",
    "    * `two` - 2 rooms.\n",
    "    * `three` - 3 rooms.\n",
    "    * `many` - huge (4+) luxurious apartments with many rooms.\n",
    "- `desired_floor`\n",
    "    * `any` - not matter what floor.\n",
    "    * `low` - low floors are preferred.\n",
    "    * `high` - top floors are preferred.\n",
    "- `housing`\n",
    "    * `primary` - newbuilds & houses under construction.\n",
    "    * `secondary` - old & already used apartments."
   ]
  },
  {
   "cell_type": "code",
   "execution_count": null,
   "metadata": {
    "scrolled": true
   },
   "outputs": [],
   "source": [
    "from pandas import read_csv\n",
    "from plotly.graph_objs import Pie, Figure, Scatter\n",
    "from plotly.subplots import make_subplots\n",
    "from plotly.figure_factory import create_annotated_heatmap\n",
    "from uuid import uuid4\n",
    "from lightgbm import train, Dataset, Booster\n",
    "from sklearn.metrics import confusion_matrix, accuracy_score, roc_auc_score, f1_score"
   ]
  },
  {
   "cell_type": "code",
   "execution_count": null,
   "metadata": {},
   "outputs": [],
   "source": [
    "room_numbers = ['any', 'one', 'two', 'three', 'many']\n",
    "floors = ['any', 'low', 'high']\n",
    "housings = ['primary', 'secondary']\n",
    "labels = ['bad', 'good']\n",
    "groups = ['training', 'validation', 'testing']"
   ]
  },
  {
   "cell_type": "code",
   "execution_count": null,
   "metadata": {},
   "outputs": [],
   "source": [
    "def extract(tag='latest'):\n",
    "    frame = read_csv(f'../scientific/tables/{tag}.csv')\n",
    "    samples = set(frame['group'])\n",
    "    if samples != set(groups):\n",
    "        raise RuntimeError(f'Got invalid groups, {samples}')\n",
    "    mappings = {n: i for i, n in enumerate(room_numbers)}\n",
    "    frame['desired_room_number'] = frame['desired_room_number'].map(lambda n: mappings[n])\n",
    "    mappings = {f: i for i, f in enumerate(floors)}\n",
    "    frame['desired_floor'] = frame['desired_floor'].map(lambda f: mappings[f])\n",
    "    mappings = {h: i for i, h in enumerate(housings)}\n",
    "    frame['housing'] = frame['housing'].map(lambda h: mappings[h])\n",
    "    mappings = {l: i for i, l in enumerate(labels)}\n",
    "    frame['label'] = frame['label'].map(lambda l: mappings[l])\n",
    "    return frame"
   ]
  },
  {
   "cell_type": "code",
   "execution_count": null,
   "metadata": {},
   "outputs": [],
   "source": [
    "flats = extract()\n",
    "flats.info()"
   ]
  },
  {
   "cell_type": "code",
   "execution_count": null,
   "metadata": {},
   "outputs": [],
   "source": [
    "figure = Figure()\n",
    "counts = flats['group'].value_counts()\n",
    "figure.add_trace(Pie(labels=counts.index, values=counts.values, name=''))\n",
    "figure.update_layout(legend={'x': 0.7})\n",
    "figure.show()"
   ]
  },
  {
   "cell_type": "code",
   "execution_count": null,
   "metadata": {},
   "outputs": [],
   "source": [
    "def pies(column, enum):\n",
    "    figure = make_subplots(\n",
    "        cols=len(groups),\n",
    "        specs=[[{'type': 'domain'}] * len(groups)],\n",
    "        subplot_titles=groups\n",
    "    )\n",
    "    for i, group in enumerate(groups, 1):\n",
    "        counts = flats[flats['group'] == group][column].value_counts().sort_index()\n",
    "        figure.add_trace(\n",
    "            Pie(labels=[enum[j] for j in counts.index], values=counts.values, name=''),\n",
    "            row=1,\n",
    "            col=i\n",
    "        )\n",
    "    figure.show()"
   ]
  },
  {
   "cell_type": "code",
   "execution_count": null,
   "metadata": {},
   "outputs": [],
   "source": [
    "pies('desired_room_number', room_numbers)"
   ]
  },
  {
   "cell_type": "code",
   "execution_count": null,
   "metadata": {},
   "outputs": [],
   "source": [
    "pies('desired_floor', floors)"
   ]
  },
  {
   "cell_type": "code",
   "execution_count": null,
   "metadata": {},
   "outputs": [],
   "source": [
    "pies('housing', housings)"
   ]
  },
  {
   "cell_type": "code",
   "execution_count": null,
   "metadata": {},
   "outputs": [],
   "source": [
    "pies('label', labels)"
   ]
  },
  {
   "cell_type": "code",
   "execution_count": null,
   "metadata": {},
   "outputs": [],
   "source": [
    "def serialize(group, reference=None):\n",
    "    frame = flats[flats['group'] == group]\n",
    "    return Dataset(frame.drop(columns=['label', 'group']), frame['label'], reference=reference)"
   ]
  },
  {
   "cell_type": "code",
   "execution_count": null,
   "metadata": {},
   "outputs": [],
   "source": [
    "def fit():\n",
    "    training_dataset = serialize('training')\n",
    "    validation_dataset = serialize('validation', training_dataset)\n",
    "    booster = train(\n",
    "        {'objective': 'binary', 'metric': ['binary_logloss', 'auc'], 'force_row_wise': True},\n",
    "        training_dataset,\n",
    "        30,\n",
    "        [validation_dataset],\n",
    "        early_stopping_rounds=10\n",
    "    )\n",
    "    booster.save_model(f'../scientific/models/twinkle.{uuid4().hex}.txt')\n",
    "    booster.save_model('../scientific/models/twinkle.latest.txt')"
   ]
  },
  {
   "cell_type": "code",
   "execution_count": null,
   "metadata": {},
   "outputs": [],
   "source": [
    "%%time\n",
    "fit()"
   ]
  },
  {
   "cell_type": "code",
   "execution_count": null,
   "metadata": {},
   "outputs": [],
   "source": [
    "def infer(tag='latest'):\n",
    "    frame = flats[flats['group'] == 'testing']\n",
    "    booster = Booster(model_file=f'../scientific/models/twinkle.{tag}.txt')\n",
    "    predicted = booster.predict(frame.drop(columns=['label', 'group'])).round(0).astype(int)\n",
    "    print(\n",
    "        f'Accuracy: {accuracy_score(frame[\"label\"], predicted):.4f}  ' +\n",
    "        f'AUC: {roc_auc_score(frame[\"label\"], predicted):.4f}  ' +\n",
    "        f'F1: {f1_score(frame[\"label\"], predicted):.4f}'\n",
    "    )\n",
    "    figure = create_annotated_heatmap(\n",
    "        z=confusion_matrix(frame['label'], predicted),\n",
    "        x=labels,\n",
    "        y=labels,\n",
    "        hoverinfo='skip'\n",
    "    )\n",
    "    figure.update_xaxes(title_text='Predicted')\n",
    "    figure.update_yaxes(title_text='Actual', autorange='reversed')\n",
    "    figure.show()"
   ]
  },
  {
   "cell_type": "code",
   "execution_count": null,
   "metadata": {},
   "outputs": [],
   "source": [
    "infer()"
   ]
  }
 ],
 "metadata": {
  "kernelspec": {
   "display_name": "Python 3",
   "language": "python",
   "name": "python3"
  },
  "language_info": {
   "codemirror_mode": {
    "name": "ipython",
    "version": 3
   },
   "file_extension": ".py",
   "mimetype": "text/x-python",
   "name": "python",
   "nbconvert_exporter": "python",
   "pygments_lexer": "ipython3",
   "version": "3.8.8"
  }
 },
 "nbformat": 4,
 "nbformat_minor": 4
}
