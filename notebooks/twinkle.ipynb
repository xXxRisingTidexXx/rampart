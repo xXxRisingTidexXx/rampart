{
 "cells": [
  {
   "cell_type": "markdown",
   "metadata": {},
   "source": [
    "![Rampart Logo](../images/logo.png)\n",
    "\n",
    "Twinkle is a flat ranking model based on the learning to rank (LTR) technique. [Lambdarank](https://www.microsoft.com/en-us/research/uploads/prod/2016/02/MSR-TR-2010-82.pdf) is used as the main logical engine. The final ranker is supposed to relevantly order housing publications to a final Telegram user.\n",
    "\n",
    "## I/O\n",
    "All datasets lie in `../scientific/binaries` . Final model must be stored into `../scientific/models/twinkle.latest.txt` .\n",
    "\n",
    "## Metadata\n",
    "Dataset files have self-explained names:\n",
    "```\n",
    "<tag>.<group>.bin\n",
    "```\n",
    "For instance:\n",
    "```\n",
    "70e36b1e47754064ad14b57a5c79d5bc.validation.bin\n",
    "```\n",
    "Placeholders in angle brackets:\n",
    "- `tag` , UUID4 generated hash.\n",
    "- `group` , dataset's destination - one of `training` or `validation` .\n",
    "\n",
    "## Features\n",
    "- `actual_price` - true flat's price (in USD).\n",
    "- `utmost_price` - query's price limit (in USD), search results shouldn't exceed much this shape.\n",
    "- `total_area` - overall apartment's area (in square meters).\n",
    "- `living_area` - flat's living room area (in square meters).\n",
    "- `kitchen_area` - flat's kitchen area (in square meters).\n",
    "- `actual_room_number` - true flat's living room amount.\n",
    "- `desired_room_number` - target room count.\n",
    "- `actual_floor` - apartment's floor (the ground floor is the floor #1).\n",
    "- `total_floor` - house's floor count.\n",
    "- `desired_floor` - target flat's floor.\n",
    "- `housing` - either a newbuild or a used apartments.\n",
    "- `ssf` - Subway Station Factor, the score indicating about subway stations nearby.\n",
    "- `izf` - Industrial Zone Factor, the score indicating about factories & plants nearby.\n",
    "- `gzf` - Green Zone Factor, the score indicating about parks nearby.\n",
    "- `abandoned_count` - unavailable/not found photo quantity.\n",
    "- `luxury_count` - elite housing photo number.\n",
    "- `comfort_count` - ordinary flat pictures.\n",
    "- `junk_count` - obsolete apartment interior photo amount.\n",
    "- `construction_count` - raw building images.\n",
    "- `excess_count` - trash photo amount.\n",
    "- `panorama_count` - panorama (360 deg) image number.\n",
    "\n",
    "## Categorical data\n",
    "All feature categories are sorted according to their ranks from the lowest to the highest:\n",
    "- `desired_room_number`\n",
    "    * `any` - not matter how many rooms;\n",
    "    * `one` - 1 room;\n",
    "    * `two` - 2 rooms;\n",
    "    * `three` - 3 rooms;\n",
    "    * `many` - huge (4+) luxurious apartments with many rooms;\n",
    "- `desired_floor`\n",
    "    * `any` - not matter what floor;\n",
    "    * `low` - low floors are preferred;\n",
    "    * `high` - top floors are preferred;\n",
    "- `housing`\n",
    "    * `primary` - newbuilds & houses under construction;\n",
    "    * `secondary` - old & already used apartments;\n",
    "- `relevance`\n",
    "    * `terrible` - don't show this thing again!\n",
    "    * `bad` - poor quality;\n",
    "    * `so-so` - average result;\n",
    "    * `good` - quite smart search;\n",
    "    * `excellent` - the best matches."
   ]
  },
  {
   "cell_type": "code",
   "execution_count": null,
   "metadata": {
    "scrolled": true
   },
   "outputs": [],
   "source": [
    "%matplotlib inline"
   ]
  },
  {
   "cell_type": "code",
   "execution_count": null,
   "metadata": {
    "scrolled": true
   },
   "outputs": [],
   "source": [
    "from lightgbm import train, Dataset, Booster\n",
    "from uuid import uuid4\n",
    "from sqlalchemy import create_engine\n",
    "from os import environ\n",
    "from pandas import read_sql\n",
    "from IPython.core.display import display, HTML\n",
    "from jinja2 import Template"
   ]
  },
  {
   "cell_type": "code",
   "execution_count": null,
   "metadata": {
    "scrolled": true
   },
   "outputs": [],
   "source": [
    "def fit():\n",
    "    training_dataset = Dataset('../scientific/binaries/latest.training.bin')\n",
    "    validation_dataset = training_dataset.create_valid('../scientific/binaries/latest.validation.bin')\n",
    "    booster = train(\n",
    "        {'objective': 'lambdarank', 'metric': 'ndcg', 'force_row_wise': True},\n",
    "        training_dataset,\n",
    "        15,\n",
    "        [validation_dataset],\n",
    "        early_stopping_rounds=10\n",
    "    )\n",
    "    booster.save_model('../scientific/models/twinkle.latest.txt')\n",
    "    booster.save_model(f'../scientific/models/twinkle.{uuid4().hex}.txt')"
   ]
  },
  {
   "cell_type": "code",
   "execution_count": null,
   "metadata": {
    "scrolled": true
   },
   "outputs": [],
   "source": [
    "%%time\n",
    "fit()"
   ]
  },
  {
   "cell_type": "code",
   "execution_count": null,
   "metadata": {
    "scrolled": true
   },
   "outputs": [],
   "source": [
    "engine = create_engine(environ['RAMPART_DATABASE_DSN'])"
   ]
  },
  {
   "cell_type": "code",
   "execution_count": null,
   "metadata": {
    "scrolled": true
   },
   "outputs": [],
   "source": [
    "def read(city, price, room_number, floor):\n",
    "    price_clause = ''\n",
    "    if price > 0:\n",
    "        price_clause = f'and price <= {1.65 * price}'\n",
    "    room_number_clause = ''\n",
    "    if room_number == 4:\n",
    "        room_number_clause = f'and room_number >= {room_number}'\n",
    "    elif room_number != 0:\n",
    "        room_number_clause = f'and room_number = {room_number}'\n",
    "    with engine.connect() as connection:\n",
    "        return read_sql(\n",
    "            f'''\n",
    "            select flats.id,\n",
    "                   flats.url,\n",
    "                   price as actual_price,\n",
    "                   %s as utmost_price,\n",
    "                   total_area,\n",
    "                   living_area,\n",
    "                   kitchen_area,\n",
    "                   room_number as actual_room_number,\n",
    "                   %s as desired_room_number,\n",
    "                   floor as actual_floor,\n",
    "                   total_floor,\n",
    "                   %s as desired_floor,\n",
    "                   case when housing = 'primary' then 0 else 1 end as housing,\n",
    "                   st_x(point) as longitude,\n",
    "                   st_y(point) as latitude,\n",
    "                   street,\n",
    "                   house_number,\n",
    "                   ssf,\n",
    "                   izf,\n",
    "                   gzf,\n",
    "                   sum(case when kind = 'photo' and label = 'abandoned' then 1 else 0 end) as abandoned_count,\n",
    "                   sum(case when kind = 'photo' and label = 'luxury' then 1 else 0 end) as luxury_count,\n",
    "                   sum(case when kind = 'photo' and label = 'comfort' then 1 else 0 end) as comfort_count,\n",
    "                   sum(case when kind = 'photo' and label = 'junk' then 1 else 0 end) as junk_count,\n",
    "                   sum(\n",
    "                       case\n",
    "                           when kind = 'photo'\n",
    "                                and label = 'construction' then 1\n",
    "                           else 0\n",
    "                           end) as construction_count,\n",
    "                   sum(case when kind = 'photo' and label = 'excess' then 1 else 0 end) as excess_count,\n",
    "                   sum(case when kind = 'panorama' then 1 else 0 end) as panorama_count\n",
    "            from flats\n",
    "                 join images on flats.id = flat_id\n",
    "            where city = %s\n",
    "            {price_clause}\n",
    "            {room_number_clause}\n",
    "            group by flats.id\n",
    "            having sum(case when kind = 'photo' and label = 'unknown' then 1 else 0 end) = 0\n",
    "            ''',\n",
    "            connection,\n",
    "            params=[price, room_number, floor, city]\n",
    "        )"
   ]
  },
  {
   "cell_type": "code",
   "execution_count": null,
   "metadata": {
    "scrolled": true
   },
   "outputs": [],
   "source": [
    "class Flat:\n",
    "    def __init__(self, series):\n",
    "        self.id = series['id']\n",
    "        self.url = series['url']\n",
    "        self.price = series['actual_price']\n",
    "        self.total_area = series['total_area']\n",
    "        self.living_area = series['living_area']\n",
    "        self.kitchen_area = series['kitchen_area']\n",
    "        self.room_number = series['actual_room_number']\n",
    "        self.floor = series['actual_floor']\n",
    "        self.total_floor = series['total_floor']\n",
    "        self.housing = series['housing']\n",
    "        self.longitude = series['longitude']\n",
    "        self.latitude = series['latitude']\n",
    "        self.city = series['city']\n",
    "        self.street = series['street']\n",
    "        self.house_number = series['house_number']\n",
    "        self.ssf = series['ssf']\n",
    "        self.izf = series['izf']\n",
    "        self.gzf = series['gzf']\n",
    "        self.abandoned_count = series['abandoned_count']\n",
    "        self.luxury_count = series['luxury_count']\n",
    "        self.comfort_count = series['comfort_count']\n",
    "        self.junk_count = series['junk_count']\n",
    "        self.construction_count = series['construction_count']\n",
    "        self.excess_count = series['excess_count']\n",
    "        self.panorama_count = series['panorama_count']\n",
    "        self.score = series['score']\n",
    "\n",
    "    @property\n",
    "    def address(self):\n",
    "        return ', '.join(s for s in [self.city, self.street, self.house_number] if s != '')"
   ]
  },
  {
   "cell_type": "code",
   "execution_count": null,
   "metadata": {
    "scrolled": true
   },
   "outputs": [],
   "source": [
    "def rank(tag='latest', city='Київ', price=0, room_number=0, floor=0, limit=5, offset=0):\n",
    "    frame = read(city, price, room_number, floor)\n",
    "    if len(frame) == 0:\n",
    "        return\n",
    "    booster = Booster(model_file=f'../scientific/models/twinkle.{tag}.txt')\n",
    "    frame['score'] = booster.predict(\n",
    "        frame.drop(columns=['id', 'url', 'longitude', 'latitude', 'street', 'house_number']),\n",
    "        num_iteration=booster.best_iteration\n",
    "    )\n",
    "    flats = frame.sort_values('score', ascending=False).iloc[limit * offset:limit * (offset + 1)]\n",
    "    flats['city'] = city\n",
    "    flats['housing'] = flats['housing'].map(lambda h: 'primary' if h == 0 else 'secondary')\n",
    "    with open('../templates/flats.html') as stream:\n",
    "        display(HTML(Template(stream.read()).render(flats=[Flat(s) for _, s in flats.iterrows()]))) "
   ]
  },
  {
   "cell_type": "code",
   "execution_count": null,
   "metadata": {
    "scrolled": false
   },
   "outputs": [],
   "source": [
    "%%time\n",
    "rank()"
   ]
  }
 ],
 "metadata": {
  "kernelspec": {
   "display_name": "Python 3",
   "language": "python",
   "name": "python3"
  },
  "language_info": {
   "codemirror_mode": {
    "name": "ipython",
    "version": 3
   },
   "file_extension": ".py",
   "mimetype": "text/x-python",
   "name": "python",
   "nbconvert_exporter": "python",
   "pygments_lexer": "ipython3",
   "version": "3.8.6"
  }
 },
 "nbformat": 4,
 "nbformat_minor": 4
}
